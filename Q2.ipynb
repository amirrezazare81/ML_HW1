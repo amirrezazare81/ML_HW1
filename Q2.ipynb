{
 "cells": [
  {
   "cell_type": "markdown",
   "metadata": {
    "id": "ChC3RF8meAlK"
   },
   "source": [
    "<h1 align=\"center\">Introduction to Machine Learning - 25737-2</h1>\n",
    "<h4 align=\"center\">Dr. R. Amiri</h4>\n",
    "<h4 align=\"center\">Sharif University of Technology, Spring 2024</h4>\n",
    "\n",
    "\n",
    "**<font color='red'>Plagiarism is strongly prohibited!</font>**\n",
    "\n",
    "\n",
    "**Student Name**:\n",
    "\n",
    "**Student ID**:\n",
    "\n",
    "\n",
    "\n"
   ]
  },
  {
   "cell_type": "markdown",
   "metadata": {
    "id": "IraiR0SbeDi_"
   },
   "source": [
    "# Logistic Regression"
   ]
  },
  {
   "cell_type": "markdown",
   "metadata": {
    "id": "nRQjwWC3eDnc"
   },
   "source": [
    "**Task:** Implement your own Logistic Regression model, and test it on the given dataset of Logistic_question.csv!"
   ]
  },
  {
   "cell_type": "code",
   "execution_count": 6,
   "metadata": {},
   "outputs": [
    {
     "data": {
      "image/png": "[encoded data removed]",
      "text/plain": [
       "<Figure size 640x480 with 1 Axes>"
      ]
     },
     "metadata": {},
     "output_type": "display_data"
    },
    {
     "name": "stdout",
     "output_type": "stream",
     "text": [
      "Predictions: [[1]\n",
      " [1]\n",
      " [1]\n",
      " [1]\n",
      " [1]\n",
      " [1]\n",
      " [1]\n",
      " [1]\n",
      " [0]\n",
      " [1]]\n",
      "Actual Labels: [[0.92]\n",
      " [0.76]\n",
      " [0.72]\n",
      " [0.8 ]\n",
      " [0.65]\n",
      " [0.9 ]\n",
      " [0.75]\n",
      " [0.68]\n",
      " [0.5 ]\n",
      " [0.45]]\n",
      "Accuracy: 91.0%\n"
     ]
    }
   ],
   "source": [
    "import numpy as np\n",
    "import pandas as pd\n",
    "import matplotlib.pyplot as plt\n",
    "\n",
    "# Load the dataset\n",
    "data = pd.read_csv(\"f://Logistic_question.csv\")\n",
    "\n",
    "# Split the dataset into features (X) and target variable (y)\n",
    "X = data.iloc[:, :-1].values\n",
    "y = data.iloc[:, -1].values.reshape(-1, 1)\n",
    "\n",
    "# Normalize the features (optional but recommended)\n",
    "X = (X - np.mean(X, axis=0)) / np.std(X, axis=0)\n",
    "\n",
    "# Add intercept term to X\n",
    "intercept = np.ones((X.shape[0], 1))\n",
    "X = np.concatenate((intercept, X), axis=1)\n",
    "\n",
    "# Define sigmoid function\n",
    "def sigmoid(z):\n",
    "    return 1 / (1 + np.exp(-z))\n",
    "\n",
    "# Define the cost function\n",
    "def compute_cost(X, y, theta):\n",
    "    m = len(y)\n",
    "    h = sigmoid(X.dot(theta))\n",
    "    epsilon = 1e-5  # to prevent log(0) error\n",
    "    cost = (-1 / m) * np.sum(y * np.log(h + epsilon) + (1 - y) * np.log(1 - h + epsilon))\n",
    "    return cost\n",
    "\n",
    "# Define the gradient descent function\n",
    "def gradient_descent(X, y, theta, alpha, iterations):\n",
    "    m = len(y)\n",
    "    costs = []\n",
    "    for i in range(iterations):\n",
    "        h = sigmoid(X.dot(theta))\n",
    "        gradient = (1 / m) * X.T.dot(h - y)\n",
    "        theta -= alpha * gradient\n",
    "        cost = compute_cost(X, y, theta)\n",
    "        costs.append(cost)\n",
    "    return theta, costs\n",
    "\n",
    "# Initialize theta\n",
    "theta = np.zeros((X.shape[1], 1))\n",
    "\n",
    "# Set hyperparameters\n",
    "alpha = 0.01\n",
    "iterations = 1000\n",
    "\n",
    "# Run gradient descent\n",
    "theta, costs = gradient_descent(X, y, theta, alpha, iterations)\n",
    "\n",
    "# Plot the cost function\n",
    "plt.plot(costs)\n",
    "plt.xlabel('Iterations')\n",
    "plt.ylabel('Cost')\n",
    "plt.title('Cost vs. Iterations')\n",
    "plt.show()\n",
    "\n",
    "# Define a function to predict the class labels\n",
    "def predict(X, theta, threshold=0.5):\n",
    "    probabilities = sigmoid(X.dot(theta))\n",
    "    return (probabilities >= threshold).astype(int)\n",
    "\n",
    "# Make predictions\n",
    "predictions = predict(X, theta)\n",
    "\n",
    "# Print first few predictions and actual labels for debugging\n",
    "print(\"Predictions:\", predictions[:10])\n",
    "print(\"Actual Labels:\", y[:10])\n",
    "\n",
    "# Convert y to binary labels using a threshold of 0.5\n",
    "binary_labels = (y >= 0.5).astype(int)\n",
    "\n",
    "# Calculate accuracy\n",
    "accuracy = np.mean(predictions == binary_labels) * 100\n",
    "print(f'Accuracy: {accuracy}%')"
   ]
  },
  {
   "cell_type": "markdown",
   "metadata": {
    "id": "S-i-oubUlZ6e"
   },
   "source": [
    "**Task:** Test your model on the given dataset. You must split your data into train and test, with a 0.2 split, then normalize your data using X_train data. Finally, report 4 different evaluation metrics of the model on the test set. (You might want to first make the Target column binary!)"
   ]
  },
  {
   "cell_type": "code",
   "execution_count": 9,
   "metadata": {
    "colab": {
     "base_uri": "https://localhost:8080/"
    },
    "id": "0KXzIy_2u-pG",
    "outputId": "9625f7e2-abb1-4591-c0fa-843525e0ffd6"
   },
   "outputs": [
    {
     "name": "stdout",
     "output_type": "stream",
     "text": [
      "Accuracy: 1.0\n",
      "Precision: 0.0\n",
      "Recall: 0.0\n",
      "F1 Score: 0.0\n"
     ]
    },
    {
     "name": "stderr",
     "output_type": "stream",
     "text": [
      "c:\\Users\\RGS-CO\\AppData\\Local\\Programs\\Python\\Python311\\Lib\\site-packages\\sklearn\\metrics\\_classification.py:1469: UndefinedMetricWarning: Precision is ill-defined and being set to 0.0 due to no predicted samples. Use `zero_division` parameter to control this behavior.\n",
      "  _warn_prf(average, modifier, msg_start, len(result))\n",
      "c:\\Users\\RGS-CO\\AppData\\Local\\Programs\\Python\\Python311\\Lib\\site-packages\\sklearn\\metrics\\_classification.py:1469: UndefinedMetricWarning: Recall is ill-defined and being set to 0.0 due to no true samples. Use `zero_division` parameter to control this behavior.\n",
      "  _warn_prf(average, modifier, msg_start, len(result))\n",
      "c:\\Users\\RGS-CO\\AppData\\Local\\Programs\\Python\\Python311\\Lib\\site-packages\\sklearn\\metrics\\_classification.py:1757: UndefinedMetricWarning: F-score is ill-defined and being set to 0.0 due to no true nor predicted samples. Use `zero_division` parameter to control this behavior.\n",
      "  _warn_prf(average, \"true nor predicted\", \"F-score is\", len(true_sum))\n"
     ]
    }
   ],
   "source": [
    "import pandas as pd\n",
    "import numpy as np\n",
    "from sklearn.model_selection import train_test_split\n",
    "from sklearn.metrics import accuracy_score, precision_score, recall_score, f1_score\n",
    "\n",
    "# Load the dataset\n",
    "data = pd.read_csv(\"f://Logistic_question.csv\")\n",
    "\n",
    "# Convert the target column into binary\n",
    "data['Target'] = data['Target'].apply(lambda x: 1 if x == 'yes' else 0)\n",
    "\n",
    "# Split the dataset into features (X) and target variable (y)\n",
    "X = data.iloc[:, :-1].values\n",
    "y = data.iloc[:, -1].values.reshape(-1, 1)\n",
    "\n",
    "# Split the data into train and test sets\n",
    "X_train, X_test, y_train, y_test = train_test_split(X, y, test_size=0.2, random_state=42)\n",
    "\n",
    "# Normalize the features using X_train data\n",
    "X_train_normalized = (X_train - np.mean(X_train, axis=0)) / np.std(X_train, axis=0)\n",
    "X_test_normalized = (X_test - np.mean(X_train, axis=0)) / np.std(X_train, axis=0)\n",
    "\n",
    "# Add intercept term to X_train and X_test\n",
    "intercept_train = np.ones((X_train_normalized.shape[0], 1))\n",
    "intercept_test = np.ones((X_test_normalized.shape[0], 1))\n",
    "X_train_normalized = np.concatenate((intercept_train, X_train_normalized), axis=1)\n",
    "X_test_normalized = np.concatenate((intercept_test, X_test_normalized), axis=1)\n",
    "\n",
    "# Initialize theta\n",
    "theta = np.zeros((X_train_normalized.shape[1], 1))\n",
    "\n",
    "# Set hyperparameters\n",
    "alpha = 0.01\n",
    "iterations = 1000\n",
    "\n",
    "# Run gradient descent on the training set\n",
    "theta, _ = gradient_descent(X_train_normalized, y_train, theta, alpha, iterations)\n",
    "\n",
    "# Make predictions on the testing set\n",
    "predictions = predict(X_test_normalized, theta)\n",
    "\n",
    "# Calculate evaluation metrics\n",
    "accuracy = accuracy_score(y_test, predictions)\n",
    "precision = precision_score(y_test, predictions)\n",
    "recall = recall_score(y_test, predictions)\n",
    "f1 = f1_score(y_test, predictions)\n",
    "\n",
    "# Report the evaluation metrics\n",
    "print(f'Accuracy: {accuracy}')\n",
    "print(f'Precision: {precision}')\n",
    "print(f'Recall: {recall}')\n",
    "print(f'F1 Score: {f1}')\n"
   ]
  },
  {
   "cell_type": "markdown",
   "metadata": {
    "id": "Ji0RXNGKv1pa"
   },
   "source": [
    "**Question:** What are each of your used evaluation metrics? And for each one, mention situations in which they convey more data on the model performance in specific tasks."
   ]
  },
  {
   "cell_type": "markdown",
   "metadata": {
    "id": "ldveD35twRRZ"
   },
   "source": [
    "**Your answer:**"
   ]
  },
  {
   "cell_type": "markdown",
   "metadata": {
    "id": "1ZCeRHZSw-mh"
   },
   "source": [
    "**Task:** Now test the built-in function of Python for Logistic Regression, and report all the same metrics used before."
   ]
  },
  {
   "cell_type": "code",
   "execution_count": 10,
   "metadata": {
    "id": "Vb5lRSQXDLR3"
   },
   "outputs": [
    {
     "name": "stdout",
     "output_type": "stream",
     "text": [
      "Class Distribution: {0: 320}\n",
      "Not enough classes in the target variable to train the model.\n"
     ]
    }
   ],
   "source": [
    "from sklearn.linear_model import LogisticRegression\n",
    "from sklearn.metrics import accuracy_score, precision_score, recall_score, f1_score\n",
    "import numpy as np\n",
    "\n",
    "# Check the class distribution in the target variable\n",
    "unique, counts = np.unique(y_train, return_counts=True)\n",
    "print(\"Class Distribution:\", dict(zip(unique, counts)))\n",
    "\n",
    "# If the class distribution is not heavily imbalanced, proceed with model training\n",
    "if len(unique) > 1:\n",
    "    # Create and fit the logistic regression model\n",
    "    log_reg = LogisticRegression()\n",
    "    log_reg.fit(X_train_normalized, y_train.ravel())  # ravel() is used to convert y_train to 1D array\n",
    "\n",
    "    # Make predictions on the testing set\n",
    "    predictions_sklearn = log_reg.predict(X_test_normalized)\n",
    "\n",
    "    # Calculate evaluation metrics\n",
    "    accuracy_sklearn = accuracy_score(y_test, predictions_sklearn)\n",
    "    precision_sklearn = precision_score(y_test, predictions_sklearn)\n",
    "    recall_sklearn = recall_score(y_test, predictions_sklearn)\n",
    "    f1_sklearn = f1_score(y_test, predictions_sklearn)\n",
    "\n",
    "    print(f'Sklearn Logistic Regression Results:')\n",
    "    print(f'Accuracy: {accuracy_sklearn}')\n",
    "    print(f'Precision: {precision_sklearn}')\n",
    "    print(f'Recall: {recall_sklearn}')\n",
    "    print(f'F1 Score: {f1_sklearn}')\n",
    "else:\n",
    "    print(\"Not enough classes in the target variable to train the model.\")\n"
   ]
  },
  {
   "cell_type": "markdown",
   "metadata": {
    "id": "RCvIymmMy_ji"
   },
   "source": [
    "**Question:** Compare your function with the built-in function. On the matters of performance and parameters. Briefly explain what the parameters of the built-in function are and how they affect the model's performance?"
   ]
  },
  {
   "cell_type": "markdown",
   "metadata": {
    "id": "EY0ohM16z3De"
   },
   "source": [
    "**Your answer:**"
   ]
  },
  {
   "cell_type": "markdown",
   "metadata": {
    "id": "ClMqoYlr2kr7"
   },
   "source": [
    "# Multinomial Logistic Regression"
   ]
  },
  {
   "cell_type": "markdown",
   "metadata": {
    "id": "ukvlqDe52xP5"
   },
   "source": [
    "**Task:** Implement your own Multinomial Logistic Regression model. Your model must be able to handle any number of labels!"
   ]
  },
  {
   "cell_type": "code",
   "execution_count": 11,
   "metadata": {
    "id": "5Ir-_hFt286t"
   },
   "outputs": [],
   "source": [
    "import torch\n",
    "import torch.nn as nn\n",
    "import torch.optim as optim\n",
    "\n",
    "class MyMultinomialLogisticRegression(nn.Module):\n",
    "    def __init__(self, n_features, n_classes):\n",
    "        super(MyMultinomialLogisticRegression, self).__init__()\n",
    "        self.linear = nn.Linear(n_features, n_classes)\n",
    "\n",
    "    def forward(self, x):\n",
    "        return self.linear(x)\n",
    "\n",
    "    def fit(self, X, y, epochs=100, learning_rate=0.01):\n",
    "        device = torch.device(\"cuda\" if torch.cuda.is_available() else \"cpu\")\n",
    "        self.to(device)\n",
    "        X, y = X.to(device), y.to(device)\n",
    "        criterion = nn.CrossEntropyLoss()\n",
    "        optimizer = optim.SGD(self.parameters(), lr=learning_rate)\n",
    "\n",
    "        for epoch in range(epochs):\n",
    "            optimizer.zero_grad()\n",
    "            outputs = self(X)\n",
    "            loss = criterion(outputs, y)\n",
    "            loss.backward()\n",
    "            optimizer.step()\n",
    "\n",
    "    def predict(self, X):\n",
    "        device = torch.device(\"cuda\" if torch.cuda.is_available() else \"cpu\")\n",
    "        X = X.to(device)\n",
    "        self.to(device)\n",
    "        with torch.no_grad():\n",
    "            _, predicted = torch.max(self(X), 1)\n",
    "        return predicted.cpu().numpy()"
   ]
  },
  {
   "cell_type": "markdown",
   "metadata": {
    "id": "zPQ3Rtay3Y2_"
   },
   "source": [
    "**Task:** Test your model on the given dataset. Do the same as the previous part, but here you might want to first make the Target column quantized into $i$ levels. Change $i$ from 2 to 10."
   ]
  },
  {
   "cell_type": "code",
   "execution_count": 12,
   "metadata": {
    "id": "9aP4QJPq29B3"
   },
   "outputs": [
    {
     "name": "stdout",
     "output_type": "stream",
     "text": [
      "Accuracy with 2 levels: 0.7875\n",
      "Accuracy with 3 levels: 0.675\n",
      "Accuracy with 4 levels: 0.575\n",
      "Accuracy with 5 levels: 0.4375\n",
      "Accuracy with 6 levels: 0.4125\n",
      "Accuracy with 7 levels: 0.4125\n",
      "Accuracy with 8 levels: 0.3625\n",
      "Accuracy with 9 levels: 0.2875\n",
      "Accuracy with 10 levels: 0.175\n"
     ]
    }
   ],
   "source": [
    "# Your code goes here!\n",
    "import numpy as np\n",
    "import pandas as pd\n",
    "from sklearn.model_selection import train_test_split\n",
    "from sklearn.preprocessing import LabelEncoder\n",
    "\n",
    "# Assuming df is your DataFrame and 'target' is your target column\n",
    "df = pd.read_csv(\"f://Logistic_question.csv\")\n",
    "model = MyMultinomialLogisticRegression(n_features=7, n_classes=10)\n",
    "\n",
    "for i in range(2, 11):\n",
    "    # Quantize the Target column into i levels\n",
    "    df['quantized_target'] = pd.qcut(df['Target'], q=i, labels=False)\n",
    "    \n",
    "    # Convert target column to tensor\n",
    "    target = torch.tensor(df['quantized_target'].values, dtype=torch.long)\n",
    "    \n",
    "    # Assuming 'features' is a list of your feature column names\n",
    "    features = ['Feature 1', 'Feature 2', 'Feature 3', 'Feature 4', 'Feature 5', 'Feature 6', 'Feature 7']\n",
    "    features = torch.tensor(df[features].values, dtype=torch.float)\n",
    "    \n",
    "    # Split the dataset into training and testing sets\n",
    "    X_train, X_test, y_train, y_test = train_test_split(features, target, test_size=0.2, random_state=42)\n",
    "    \n",
    "    # Fit the model\n",
    "    model.fit(X_train, y_train)\n",
    "    \n",
    "    # Predict on the test set\n",
    "    predictions = model.predict(X_test)\n",
    "    \n",
    "    # Calculate accuracy\n",
    "    accuracy = (predictions == y_test.numpy()).mean()\n",
    "    print(f'Accuracy with {i} levels: {accuracy}')"
   ]
  },
  {
   "cell_type": "markdown",
   "metadata": {
    "id": "Of2sHl5Z4dXi"
   },
   "source": [
    "**Question:** Report for which $i$ your model performs best. Describe and analyze the results! You could use visualizations or any other method!"
   ]
  },
  {
   "cell_type": "markdown",
   "metadata": {
    "id": "cRLERDAr4wnS"
   },
   "source": [
    "**Your answer:**"
   ]
  },
  {
   "cell_type": "markdown",
   "metadata": {
    "id": "wT43jGKV6CBZ"
   },
   "source": [
    "# Going a little further!"
   ]
  },
  {
   "cell_type": "markdown",
   "metadata": {
    "id": "Vo9uGo0R6GZo"
   },
   "source": [
    "First we download Adult income dataset from Kaggle! In order to do this create an account on this website, and create an API. A file named kaggle.json will be downloaded to your device. Then use the following code:"
   ]
  },
  {
   "cell_type": "code",
   "execution_count": 11,
   "metadata": {
    "colab": {
     "base_uri": "https://localhost:8080/",
     "height": 73
    },
    "id": "o-vrjYBF7u1E",
    "outputId": "b274bc6e-4c35-4ad8-f17b-9e69f7d92923"
   },
   "outputs": [
    {
     "ename": "ModuleNotFoundError",
     "evalue": "No module named 'google.colab'",
     "output_type": "error",
     "traceback": [
      "\u001b[1;31m---------------------------------------------------------------------------\u001b[0m",
      "\u001b[1;31mModuleNotFoundError\u001b[0m                       Traceback (most recent call last)",
      "\u001b[1;32mf:\\ML\\HWs\\IML_CHW2\\Q2.ipynb Cell 22\u001b[0m line \u001b[0;36m1\n\u001b[1;32m----> <a href='vscode-notebook-cell:/f%3A/ML/HWs/IML_CHW2/Q2.ipynb#X30sZmlsZQ%3D%3D?line=0'>1</a>\u001b[0m \u001b[39mfrom\u001b[39;00m \u001b[39mgoogle\u001b[39;00m\u001b[39m.\u001b[39;00m\u001b[39mcolab\u001b[39;00m \u001b[39mimport\u001b[39;00m files\n\u001b[0;32m      <a href='vscode-notebook-cell:/f%3A/ML/HWs/IML_CHW2/Q2.ipynb#X30sZmlsZQ%3D%3D?line=1'>2</a>\u001b[0m files\u001b[39m.\u001b[39mupload()  \u001b[39m# Use this to select the kaggle.json file from your computer\u001b[39;00m\n\u001b[0;32m      <a href='vscode-notebook-cell:/f%3A/ML/HWs/IML_CHW2/Q2.ipynb#X30sZmlsZQ%3D%3D?line=2'>3</a>\u001b[0m get_ipython()\u001b[39m.\u001b[39msystem(\u001b[39m'\u001b[39m\u001b[39mmkdir -p ~/.kaggle\u001b[39m\u001b[39m'\u001b[39m)\n",
      "\u001b[1;31mModuleNotFoundError\u001b[0m: No module named 'google.colab'"
     ]
    }
   ],
   "source": [
    "from google.colab import files\n",
    "files.upload()  # Use this to select the kaggle.json file from your computer\n",
    "!mkdir -p ~/.kaggle\n",
    "!cp kaggle.json ~/.kaggle/\n",
    "!chmod 600 ~/.kaggle/kaggle.json"
   ]
  },
  {
   "cell_type": "markdown",
   "metadata": {
    "id": "5i6u6_1v8ftX"
   },
   "source": [
    "Then use this code to automatically download the dataset into Colab."
   ]
  },
  {
   "cell_type": "code",
   "execution_count": null,
   "metadata": {
    "colab": {
     "base_uri": "https://localhost:8080/"
    },
    "id": "XjyVaVKF29Hx",
    "outputId": "15d0b1a2-c806-4102-abbc-12545237e218"
   },
   "outputs": [],
   "source": [
    "!kaggle datasets download -d wenruliu/adult-income-dataset\n",
    "!unzip /content/adult-income-dataset.zip"
   ]
  },
  {
   "cell_type": "code",
   "execution_count": 2,
   "metadata": {},
   "outputs": [],
   "source": [
    "import kaggle"
   ]
  },
  {
   "cell_type": "code",
   "execution_count": 13,
   "metadata": {},
   "outputs": [
    {
     "name": "stdout",
     "output_type": "stream",
     "text": [
      "Dataset URL: https://www.kaggle.com/datasets/wenruliu/adult-income-dataset\n"
     ]
    },
    {
     "ename": "ApiException",
     "evalue": "(403)\nReason: Forbidden\nHTTP response headers: HTTPHeaderDict({'Content-Type': 'text/html; charset=UTF-8', 'Referrer-Policy': 'no-referrer', 'Content-Length': '349', 'Alt-Svc': 'h3=\":443\"; ma=2592000,h3-29=\":443\"; ma=2592000'})\nHTTP response body: b'\\n<html><head>\\n<meta http-equiv=\"content-type\" content=\"text/html;charset=utf-8\">\\n<title>403 Forbidden</title>\\n</head>\\n<body text=#000000 bgcolor=#ffffff>\\n<h1>Error: Forbidden</h1>\\n<h2>Your client does not have permission to get URL <code>/api/v1/datasets/download/wenruliu/adult-income-dataset</code> from this server.</h2>\\n<h2></h2>\\n</body></html>\\n'\n",
     "output_type": "error",
     "traceback": [
      "\u001b[1;31m---------------------------------------------------------------------------\u001b[0m",
      "\u001b[1;31mApiException\u001b[0m                              Traceback (most recent call last)",
      "\u001b[1;32mf:\\ML\\HWs\\IML_CHW2\\Q2.ipynb Cell 26\u001b[0m line \u001b[0;36m7\n\u001b[0;32m      <a href='vscode-notebook-cell:/f%3A/ML/HWs/IML_CHW2/Q2.ipynb#X34sZmlsZQ%3D%3D?line=2'>3</a>\u001b[0m \u001b[39mimport\u001b[39;00m \u001b[39mopendatasets\u001b[39;00m \u001b[39mas\u001b[39;00m \u001b[39mod\u001b[39;00m\n\u001b[0;32m      <a href='vscode-notebook-cell:/f%3A/ML/HWs/IML_CHW2/Q2.ipynb#X34sZmlsZQ%3D%3D?line=4'>5</a>\u001b[0m dataset \u001b[39m=\u001b[39m \u001b[39m'\u001b[39m\u001b[39mhttps://www.kaggle.com/datasets/wenruliu/adult-income-dataset\u001b[39m\u001b[39m'\u001b[39m\n\u001b[1;32m----> <a href='vscode-notebook-cell:/f%3A/ML/HWs/IML_CHW2/Q2.ipynb#X34sZmlsZQ%3D%3D?line=6'>7</a>\u001b[0m od\u001b[39m.\u001b[39;49mdownload(dataset)\n",
      "File \u001b[1;32mc:\\Users\\RGS-CO\\AppData\\Local\\Programs\\Python\\Python311\\Lib\\site-packages\\opendatasets\\__init__.py:13\u001b[0m, in \u001b[0;36mdownload\u001b[1;34m(dataset_id_or_url, data_dir, force, dry_run, **kwargs)\u001b[0m\n\u001b[0;32m     10\u001b[0m \u001b[39mdef\u001b[39;00m \u001b[39mdownload\u001b[39m(dataset_id_or_url, data_dir\u001b[39m=\u001b[39m\u001b[39m'\u001b[39m\u001b[39m.\u001b[39m\u001b[39m'\u001b[39m, force\u001b[39m=\u001b[39m\u001b[39mFalse\u001b[39;00m, dry_run\u001b[39m=\u001b[39m\u001b[39mFalse\u001b[39;00m, \u001b[39m*\u001b[39m\u001b[39m*\u001b[39mkwargs):\n\u001b[0;32m     11\u001b[0m     \u001b[39m# Check for a Kaggle dataset URL\u001b[39;00m\n\u001b[0;32m     12\u001b[0m     \u001b[39mif\u001b[39;00m is_kaggle_url(dataset_id_or_url):\n\u001b[1;32m---> 13\u001b[0m         \u001b[39mreturn\u001b[39;00m download_kaggle_dataset(dataset_id_or_url, data_dir\u001b[39m=\u001b[39;49mdata_dir, force\u001b[39m=\u001b[39;49mforce, dry_run\u001b[39m=\u001b[39;49mdry_run)\n\u001b[0;32m     15\u001b[0m     \u001b[39m# Check for Google Drive URL\u001b[39;00m\n\u001b[0;32m     16\u001b[0m     \u001b[39mif\u001b[39;00m is_google_drive_url(dataset_id_or_url):\n",
      "File \u001b[1;32mc:\\Users\\RGS-CO\\AppData\\Local\\Programs\\Python\\Python311\\Lib\\site-packages\\opendatasets\\utils\\kaggle_api.py:65\u001b[0m, in \u001b[0;36mdownload_kaggle_dataset\u001b[1;34m(dataset_url, data_dir, force, dry_run)\u001b[0m\n\u001b[0;32m     63\u001b[0m             \u001b[39mprint\u001b[39m(\u001b[39m'\u001b[39m\u001b[39mCould not delete zip file, got\u001b[39m\u001b[39m'\u001b[39m \u001b[39m+\u001b[39m \u001b[39mstr\u001b[39m(e))\n\u001b[0;32m     64\u001b[0m     \u001b[39melse\u001b[39;00m:\n\u001b[1;32m---> 65\u001b[0m         api\u001b[39m.\u001b[39;49mdataset_download_files(\n\u001b[0;32m     66\u001b[0m             dataset_id,\n\u001b[0;32m     67\u001b[0m             target_dir,\n\u001b[0;32m     68\u001b[0m             force\u001b[39m=\u001b[39;49mforce,\n\u001b[0;32m     69\u001b[0m             quiet\u001b[39m=\u001b[39;49m\u001b[39mFalse\u001b[39;49;00m,\n\u001b[0;32m     70\u001b[0m             unzip\u001b[39m=\u001b[39;49m\u001b[39mTrue\u001b[39;49;00m)\n\u001b[0;32m     72\u001b[0m \u001b[39melse\u001b[39;00m:\n\u001b[0;32m     73\u001b[0m     \u001b[39mprint\u001b[39m(\u001b[39m\"\u001b[39m\u001b[39mThis is a dry run, skipping..\u001b[39m\u001b[39m\"\u001b[39m)\n",
      "File \u001b[1;32mc:\\Users\\RGS-CO\\AppData\\Local\\Programs\\Python\\Python311\\Lib\\site-packages\\kaggle\\api\\kaggle_api_extended.py:1455\u001b[0m, in \u001b[0;36mKaggleApi.dataset_download_files\u001b[1;34m(self, dataset, path, force, quiet, unzip, licenses)\u001b[0m\n\u001b[0;32m   1449\u001b[0m     effective_path \u001b[39m=\u001b[39m path\n\u001b[0;32m   1451\u001b[0m \u001b[39mself\u001b[39m\u001b[39m.\u001b[39m_print_dataset_url_and_license(owner_slug, dataset_slug,\n\u001b[0;32m   1452\u001b[0m                                     dataset_version_number, licenses)\n\u001b[0;32m   1454\u001b[0m response \u001b[39m=\u001b[39m \u001b[39mself\u001b[39m\u001b[39m.\u001b[39mprocess_response(\n\u001b[1;32m-> 1455\u001b[0m     \u001b[39mself\u001b[39;49m\u001b[39m.\u001b[39;49mdatasets_download_with_http_info(\n\u001b[0;32m   1456\u001b[0m         owner_slug\u001b[39m=\u001b[39;49mowner_slug,\n\u001b[0;32m   1457\u001b[0m         dataset_slug\u001b[39m=\u001b[39;49mdataset_slug,\n\u001b[0;32m   1458\u001b[0m         dataset_version_number\u001b[39m=\u001b[39;49mdataset_version_number,\n\u001b[0;32m   1459\u001b[0m         _preload_content\u001b[39m=\u001b[39;49m\u001b[39mFalse\u001b[39;49;00m))\n\u001b[0;32m   1461\u001b[0m outfile \u001b[39m=\u001b[39m os\u001b[39m.\u001b[39mpath\u001b[39m.\u001b[39mjoin(effective_path, dataset_slug \u001b[39m+\u001b[39m \u001b[39m'\u001b[39m\u001b[39m.zip\u001b[39m\u001b[39m'\u001b[39m)\n\u001b[0;32m   1462\u001b[0m \u001b[39mif\u001b[39;00m force \u001b[39mor\u001b[39;00m \u001b[39mself\u001b[39m\u001b[39m.\u001b[39mdownload_needed(response, outfile, quiet):\n",
      "File \u001b[1;32mc:\\Users\\RGS-CO\\AppData\\Local\\Programs\\Python\\Python311\\Lib\\site-packages\\kaggle\\api\\kaggle_api.py:1547\u001b[0m, in \u001b[0;36mKaggleApi.datasets_download_with_http_info\u001b[1;34m(self, owner_slug, dataset_slug, **kwargs)\u001b[0m\n\u001b[0;32m   1544\u001b[0m \u001b[39m# Authentication setting\u001b[39;00m\n\u001b[0;32m   1545\u001b[0m auth_settings \u001b[39m=\u001b[39m [\u001b[39m'\u001b[39m\u001b[39mbasicAuth\u001b[39m\u001b[39m'\u001b[39m]  \u001b[39m# noqa: E501\u001b[39;00m\n\u001b[1;32m-> 1547\u001b[0m \u001b[39mreturn\u001b[39;00m \u001b[39mself\u001b[39;49m\u001b[39m.\u001b[39;49mapi_client\u001b[39m.\u001b[39;49mcall_api(\n\u001b[0;32m   1548\u001b[0m     \u001b[39m'\u001b[39;49m\u001b[39m/datasets/download/\u001b[39;49m\u001b[39m{ownerSlug}\u001b[39;49;00m\u001b[39m/\u001b[39;49m\u001b[39m{datasetSlug}\u001b[39;49;00m\u001b[39m'\u001b[39;49m, \u001b[39m'\u001b[39;49m\u001b[39mGET\u001b[39;49m\u001b[39m'\u001b[39;49m,\n\u001b[0;32m   1549\u001b[0m     path_params,\n\u001b[0;32m   1550\u001b[0m     query_params,\n\u001b[0;32m   1551\u001b[0m     header_params,\n\u001b[0;32m   1552\u001b[0m     body\u001b[39m=\u001b[39;49mbody_params,\n\u001b[0;32m   1553\u001b[0m     post_params\u001b[39m=\u001b[39;49mform_params,\n\u001b[0;32m   1554\u001b[0m     files\u001b[39m=\u001b[39;49mlocal_var_files,\n\u001b[0;32m   1555\u001b[0m     response_type\u001b[39m=\u001b[39;49m\u001b[39m'\u001b[39;49m\u001b[39mResult\u001b[39;49m\u001b[39m'\u001b[39;49m,  \u001b[39m# noqa: E501\u001b[39;49;00m\n\u001b[0;32m   1556\u001b[0m     auth_settings\u001b[39m=\u001b[39;49mauth_settings,\n\u001b[0;32m   1557\u001b[0m     async_req\u001b[39m=\u001b[39;49mparams\u001b[39m.\u001b[39;49mget(\u001b[39m'\u001b[39;49m\u001b[39masync_req\u001b[39;49m\u001b[39m'\u001b[39;49m),\n\u001b[0;32m   1558\u001b[0m     _return_http_data_only\u001b[39m=\u001b[39;49mparams\u001b[39m.\u001b[39;49mget(\u001b[39m'\u001b[39;49m\u001b[39m_return_http_data_only\u001b[39;49m\u001b[39m'\u001b[39;49m),\n\u001b[0;32m   1559\u001b[0m     _preload_content\u001b[39m=\u001b[39;49mparams\u001b[39m.\u001b[39;49mget(\u001b[39m'\u001b[39;49m\u001b[39m_preload_content\u001b[39;49m\u001b[39m'\u001b[39;49m, \u001b[39mTrue\u001b[39;49;00m),\n\u001b[0;32m   1560\u001b[0m     _request_timeout\u001b[39m=\u001b[39;49mparams\u001b[39m.\u001b[39;49mget(\u001b[39m'\u001b[39;49m\u001b[39m_request_timeout\u001b[39;49m\u001b[39m'\u001b[39;49m),\n\u001b[0;32m   1561\u001b[0m     collection_formats\u001b[39m=\u001b[39;49mcollection_formats)\n",
      "File \u001b[1;32mc:\\Users\\RGS-CO\\AppData\\Local\\Programs\\Python\\Python311\\Lib\\site-packages\\kaggle\\api_client.py:313\u001b[0m, in \u001b[0;36mApiClient.call_api\u001b[1;34m(self, resource_path, method, path_params, query_params, header_params, body, post_params, files, response_type, auth_settings, async_req, _return_http_data_only, collection_formats, _preload_content, _request_timeout)\u001b[0m\n\u001b[0;32m    276\u001b[0m \u001b[39m\u001b[39m\u001b[39m\"\"\"Makes the HTTP request (synchronous) and returns deserialized data.\u001b[39;00m\n\u001b[0;32m    277\u001b[0m \n\u001b[0;32m    278\u001b[0m \u001b[39mTo make an async request, set the async_req parameter.\u001b[39;00m\n\u001b[1;32m   (...)\u001b[0m\n\u001b[0;32m    310\u001b[0m \u001b[39m    then the method will return the response directly.\u001b[39;00m\n\u001b[0;32m    311\u001b[0m \u001b[39m\"\"\"\u001b[39;00m\n\u001b[0;32m    312\u001b[0m \u001b[39mif\u001b[39;00m \u001b[39mnot\u001b[39;00m async_req:\n\u001b[1;32m--> 313\u001b[0m     \u001b[39mreturn\u001b[39;00m \u001b[39mself\u001b[39;49m\u001b[39m.\u001b[39;49m__call_api(resource_path, method,\n\u001b[0;32m    314\u001b[0m                            path_params, query_params, header_params,\n\u001b[0;32m    315\u001b[0m                            body, post_params, files,\n\u001b[0;32m    316\u001b[0m                            response_type, auth_settings,\n\u001b[0;32m    317\u001b[0m                            _return_http_data_only, collection_formats,\n\u001b[0;32m    318\u001b[0m                            _preload_content, _request_timeout)\n\u001b[0;32m    319\u001b[0m \u001b[39melse\u001b[39;00m:\n\u001b[0;32m    320\u001b[0m     thread \u001b[39m=\u001b[39m \u001b[39mself\u001b[39m\u001b[39m.\u001b[39mpool\u001b[39m.\u001b[39mapply_async(\u001b[39mself\u001b[39m\u001b[39m.\u001b[39m__call_api, (resource_path,\n\u001b[0;32m    321\u001b[0m                                    method, path_params, query_params,\n\u001b[0;32m    322\u001b[0m                                    header_params, body,\n\u001b[1;32m   (...)\u001b[0m\n\u001b[0;32m    326\u001b[0m                                    collection_formats,\n\u001b[0;32m    327\u001b[0m                                    _preload_content, _request_timeout))\n",
      "File \u001b[1;32mc:\\Users\\RGS-CO\\AppData\\Local\\Programs\\Python\\Python311\\Lib\\site-packages\\kaggle\\api_client.py:145\u001b[0m, in \u001b[0;36mApiClient.__call_api\u001b[1;34m(self, resource_path, method, path_params, query_params, header_params, body, post_params, files, response_type, auth_settings, _return_http_data_only, collection_formats, _preload_content, _request_timeout)\u001b[0m\n\u001b[0;32m    142\u001b[0m url \u001b[39m=\u001b[39m \u001b[39mself\u001b[39m\u001b[39m.\u001b[39mconfiguration\u001b[39m.\u001b[39mhost \u001b[39m+\u001b[39m resource_path\n\u001b[0;32m    144\u001b[0m \u001b[39m# perform request and return response\u001b[39;00m\n\u001b[1;32m--> 145\u001b[0m response_data \u001b[39m=\u001b[39m \u001b[39mself\u001b[39;49m\u001b[39m.\u001b[39;49mrequest(\n\u001b[0;32m    146\u001b[0m     method, url, query_params\u001b[39m=\u001b[39;49mquery_params, headers\u001b[39m=\u001b[39;49mheader_params,\n\u001b[0;32m    147\u001b[0m     post_params\u001b[39m=\u001b[39;49mpost_params, body\u001b[39m=\u001b[39;49mbody,\n\u001b[0;32m    148\u001b[0m     _preload_content\u001b[39m=\u001b[39;49m_preload_content,\n\u001b[0;32m    149\u001b[0m     _request_timeout\u001b[39m=\u001b[39;49m_request_timeout)\n\u001b[0;32m    151\u001b[0m \u001b[39mself\u001b[39m\u001b[39m.\u001b[39mlast_response \u001b[39m=\u001b[39m response_data\n\u001b[0;32m    153\u001b[0m return_data \u001b[39m=\u001b[39m response_data\n",
      "File \u001b[1;32mc:\\Users\\RGS-CO\\AppData\\Local\\Programs\\Python\\Python311\\Lib\\site-packages\\kaggle\\api_client.py:335\u001b[0m, in \u001b[0;36mApiClient.request\u001b[1;34m(self, method, url, query_params, headers, post_params, body, _preload_content, _request_timeout)\u001b[0m\n\u001b[0;32m    333\u001b[0m \u001b[39m\u001b[39m\u001b[39m\"\"\"Makes the HTTP request using RESTClient.\"\"\"\u001b[39;00m\n\u001b[0;32m    334\u001b[0m \u001b[39mif\u001b[39;00m method \u001b[39m==\u001b[39m \u001b[39m\"\u001b[39m\u001b[39mGET\u001b[39m\u001b[39m\"\u001b[39m:\n\u001b[1;32m--> 335\u001b[0m     \u001b[39mreturn\u001b[39;00m \u001b[39mself\u001b[39;49m\u001b[39m.\u001b[39;49mrest_client\u001b[39m.\u001b[39;49mGET(url,\n\u001b[0;32m    336\u001b[0m                                 query_params\u001b[39m=\u001b[39;49mquery_params,\n\u001b[0;32m    337\u001b[0m                                 _preload_content\u001b[39m=\u001b[39;49m_preload_content,\n\u001b[0;32m    338\u001b[0m                                 _request_timeout\u001b[39m=\u001b[39;49m_request_timeout,\n\u001b[0;32m    339\u001b[0m                                 headers\u001b[39m=\u001b[39;49mheaders)\n\u001b[0;32m    340\u001b[0m \u001b[39melif\u001b[39;00m method \u001b[39m==\u001b[39m \u001b[39m\"\u001b[39m\u001b[39mHEAD\u001b[39m\u001b[39m\"\u001b[39m:\n\u001b[0;32m    341\u001b[0m     \u001b[39mreturn\u001b[39;00m \u001b[39mself\u001b[39m\u001b[39m.\u001b[39mrest_client\u001b[39m.\u001b[39mHEAD(url,\n\u001b[0;32m    342\u001b[0m                                  query_params\u001b[39m=\u001b[39mquery_params,\n\u001b[0;32m    343\u001b[0m                                  _preload_content\u001b[39m=\u001b[39m_preload_content,\n\u001b[0;32m    344\u001b[0m                                  _request_timeout\u001b[39m=\u001b[39m_request_timeout,\n\u001b[0;32m    345\u001b[0m                                  headers\u001b[39m=\u001b[39mheaders)\n",
      "File \u001b[1;32mc:\\Users\\RGS-CO\\AppData\\Local\\Programs\\Python\\Python311\\Lib\\site-packages\\kaggle\\rest.py:231\u001b[0m, in \u001b[0;36mRESTClientObject.GET\u001b[1;34m(self, url, headers, query_params, _preload_content, _request_timeout)\u001b[0m\n\u001b[0;32m    229\u001b[0m \u001b[39mdef\u001b[39;00m \u001b[39mGET\u001b[39m(\u001b[39mself\u001b[39m, url, headers\u001b[39m=\u001b[39m\u001b[39mNone\u001b[39;00m, query_params\u001b[39m=\u001b[39m\u001b[39mNone\u001b[39;00m, _preload_content\u001b[39m=\u001b[39m\u001b[39mTrue\u001b[39;00m,\n\u001b[0;32m    230\u001b[0m         _request_timeout\u001b[39m=\u001b[39m\u001b[39mNone\u001b[39;00m):\n\u001b[1;32m--> 231\u001b[0m     \u001b[39mreturn\u001b[39;00m \u001b[39mself\u001b[39;49m\u001b[39m.\u001b[39;49mrequest(\u001b[39m\"\u001b[39;49m\u001b[39mGET\u001b[39;49m\u001b[39m\"\u001b[39;49m, url,\n\u001b[0;32m    232\u001b[0m                         headers\u001b[39m=\u001b[39;49mheaders,\n\u001b[0;32m    233\u001b[0m                         _preload_content\u001b[39m=\u001b[39;49m_preload_content,\n\u001b[0;32m    234\u001b[0m                         _request_timeout\u001b[39m=\u001b[39;49m_request_timeout,\n\u001b[0;32m    235\u001b[0m                         query_params\u001b[39m=\u001b[39;49mquery_params)\n",
      "File \u001b[1;32mc:\\Users\\RGS-CO\\AppData\\Local\\Programs\\Python\\Python311\\Lib\\site-packages\\kaggle\\rest.py:225\u001b[0m, in \u001b[0;36mRESTClientObject.request\u001b[1;34m(self, method, url, query_params, headers, body, post_params, _preload_content, _request_timeout)\u001b[0m\n\u001b[0;32m    222\u001b[0m     logger\u001b[39m.\u001b[39mdebug(\u001b[39m\"\u001b[39m\u001b[39mresponse body: \u001b[39m\u001b[39m%s\u001b[39;00m\u001b[39m\"\u001b[39m, r\u001b[39m.\u001b[39mdata)\n\u001b[0;32m    224\u001b[0m \u001b[39mif\u001b[39;00m \u001b[39mnot\u001b[39;00m \u001b[39m200\u001b[39m \u001b[39m<\u001b[39m\u001b[39m=\u001b[39m r\u001b[39m.\u001b[39mstatus \u001b[39m<\u001b[39m\u001b[39m=\u001b[39m \u001b[39m299\u001b[39m:\n\u001b[1;32m--> 225\u001b[0m     \u001b[39mraise\u001b[39;00m ApiException(http_resp\u001b[39m=\u001b[39mr)\n\u001b[0;32m    227\u001b[0m \u001b[39mreturn\u001b[39;00m r\n",
      "\u001b[1;31mApiException\u001b[0m: (403)\nReason: Forbidden\nHTTP response headers: HTTPHeaderDict({'Content-Type': 'text/html; charset=UTF-8', 'Referrer-Policy': 'no-referrer', 'Content-Length': '349', 'Alt-Svc': 'h3=\":443\"; ma=2592000,h3-29=\":443\"; ma=2592000'})\nHTTP response body: b'\\n<html><head>\\n<meta http-equiv=\"content-type\" content=\"text/html;charset=utf-8\">\\n<title>403 Forbidden</title>\\n</head>\\n<body text=#000000 bgcolor=#ffffff>\\n<h1>Error: Forbidden</h1>\\n<h2>Your client does not have permission to get URL <code>/api/v1/datasets/download/wenruliu/adult-income-dataset</code> from this server.</h2>\\n<h2></h2>\\n</body></html>\\n'\n"
     ]
    }
   ],
   "source": [
    "import pandas as pd\n",
    "import os\n",
    "import opendatasets as od\n",
    "\n",
    "dataset = 'https://www.kaggle.com/datasets/wenruliu/adult-income-dataset'\n",
    "\n",
    "od.download(dataset)"
   ]
  },
  {
   "cell_type": "markdown",
   "metadata": {},
   "source": [
    "I downloaded the csv using  colab. Now I'm coding offline"
   ]
  },
  {
   "cell_type": "markdown",
   "metadata": {
    "id": "EXQnbZwt8rJK"
   },
   "source": [
    "**Task:** Determine the number of null entries!"
   ]
  },
  {
   "cell_type": "code",
   "execution_count": 14,
   "metadata": {
    "colab": {
     "base_uri": "https://localhost:8080/"
    },
    "id": "JtuEx6QW29c1",
    "outputId": "43397bec-0622-4dc4-de2b-c65be00e4503"
   },
   "outputs": [
    {
     "name": "stdout",
     "output_type": "stream",
     "text": [
      "Number of null entries in each column:\n",
      "age                   0\n",
      "workclass          2799\n",
      "fnlwgt                0\n",
      "education             0\n",
      "educational-num       0\n",
      "marital-status        0\n",
      "occupation         2809\n",
      "relationship          0\n",
      "race                  0\n",
      "gender                0\n",
      "capital-gain          0\n",
      "capital-loss          0\n",
      "hours-per-week        0\n",
      "native-country      857\n",
      "income                0\n",
      "dtype: int64\n",
      "\n",
      "Total number of null entries in the DataFrame: 6465\n"
     ]
    }
   ],
   "source": [
    "import pandas as pd\n",
    "\n",
    "# Specify the path to your CSV file\n",
    "file_path = \"F:/ML/HWs/IML_CHW2/adult.csv\"\n",
    "\n",
    "# Read the CSV file into a pandas DataFrame, specifying \"?\" as the null value\n",
    "df = pd.read_csv(file_path, na_values=\"?\")\n",
    "\n",
    "# Count the number of null entries in each column\n",
    "null_counts = df.isnull().sum()\n",
    "\n",
    "# Print the number of null entries for each column\n",
    "print(\"Number of null entries in each column:\")\n",
    "print(null_counts)\n",
    "\n",
    "# Summing up total null entries across all columns\n",
    "total_null_entries = null_counts.sum()\n",
    "print(\"\\nTotal number of null entries in the DataFrame:\", total_null_entries)\n",
    "\n"
   ]
  },
  {
   "cell_type": "markdown",
   "metadata": {
    "id": "JpEcBdTUAYVN"
   },
   "source": [
    "**Question:** In many widely used datasets there are a lot of null entries. Propose 5 methods by which, one could deal with this problem. Briefly explain how do you decide which one to use in this problem."
   ]
  },
  {
   "cell_type": "markdown",
   "metadata": {
    "id": "l1u1pBHuAsSg"
   },
   "source": [
    "**Your answer:**"
   ]
  },
  {
   "cell_type": "markdown",
   "metadata": {
    "id": "eHhH-hkpAxFf"
   },
   "source": [
    "**Task:** Handle null entries using your best method."
   ]
  },
  {
   "cell_type": "code",
   "execution_count": 15,
   "metadata": {
    "colab": {
     "base_uri": "https://localhost:8080/",
     "height": 206
    },
    "id": "5fVwWcjK29fk",
    "outputId": "c21a6adf-1e6c-46d0-dd61-79d1710272c1"
   },
   "outputs": [
    {
     "name": "stdout",
     "output_type": "stream",
     "text": [
      "All null values have been handled.\n"
     ]
    }
   ],
   "source": [
    "# Your code goes here!\n",
    "import pandas as pd\n",
    "\n",
    "# Specify the path to your CSV file\n",
    "file_path = \"F:/ML/HWs/IML_CHW2/adult.csv\"\n",
    "\n",
    "# Read the CSV file into a pandas DataFrame, specifying \"?\" as the null value\n",
    "df = pd.read_csv(file_path, na_values=\"?\")\n",
    "\n",
    "# Dropping columns with a high percentage of missing values\n",
    "df.drop(columns=[\"workclass\", \"occupation\", \"native-country\"], inplace=True)\n",
    "\n",
    "# Impute missing values in the remaining columns\n",
    "# For numerical columns, impute with mean\n",
    "df[\"age\"].fillna(df[\"age\"].mean(), inplace=True)\n",
    "\n",
    "# Check if there are any remaining null values\n",
    "if df.isnull().sum().sum() == 0:\n",
    "    print(\"All null values have been handled.\")\n",
    "else:\n",
    "    print(\"There are still remaining null values in the dataset.\")\n"
   ]
  },
  {
   "cell_type": "markdown",
   "metadata": {
    "id": "43k5cTorCJaV"
   },
   "source": [
    "**Task:** Convert categorical features to numerical values. Split the dataset with 80-20 portion. Normalize all the data using X_train. Use the built-in Logistic Regression function and GridSearchCV to train your model, and report the parameters, train and test accuracy of the best model."
   ]
  },
  {
   "cell_type": "code",
   "execution_count": 16,
   "metadata": {
    "colab": {
     "base_uri": "https://localhost:8080/"
    },
    "id": "Agj18Lcd-vyZ",
    "outputId": "69e132a9-0249-4a21-c8f3-45247c1e17dc"
   },
   "outputs": [
    {
     "name": "stdout",
     "output_type": "stream",
     "text": [
      "Best parameters found by GridSearchCV:\n",
      "{'classifier__C': 100, 'classifier__penalty': 'l2'}\n",
      "Train Accuracy: 0.8139380134619815\n",
      "Test Accuracy: 0.8185075237997748\n"
     ]
    },
    {
     "name": "stderr",
     "output_type": "stream",
     "text": [
      "c:\\Users\\RGS-CO\\AppData\\Local\\Programs\\Python\\Python311\\Lib\\site-packages\\sklearn\\model_selection\\_validation.py:425: FitFailedWarning: \n",
      "30 fits failed out of a total of 60.\n",
      "The score on these train-test partitions for these parameters will be set to nan.\n",
      "If these failures are not expected, you can try to debug them by setting error_score='raise'.\n",
      "\n",
      "Below are more details about the failures:\n",
      "--------------------------------------------------------------------------------\n",
      "30 fits failed with the following error:\n",
      "Traceback (most recent call last):\n",
      "  File \"c:\\Users\\RGS-CO\\AppData\\Local\\Programs\\Python\\Python311\\Lib\\site-packages\\sklearn\\model_selection\\_validation.py\", line 729, in _fit_and_score\n",
      "    estimator.fit(X_train, y_train, **fit_params)\n",
      "  File \"c:\\Users\\RGS-CO\\AppData\\Local\\Programs\\Python\\Python311\\Lib\\site-packages\\sklearn\\base.py\", line 1152, in wrapper\n",
      "    return fit_method(estimator, *args, **kwargs)\n",
      "           ^^^^^^^^^^^^^^^^^^^^^^^^^^^^^^^^^^^^^^\n",
      "  File \"c:\\Users\\RGS-CO\\AppData\\Local\\Programs\\Python\\Python311\\Lib\\site-packages\\sklearn\\pipeline.py\", line 427, in fit\n",
      "    self._final_estimator.fit(Xt, y, **fit_params_last_step)\n",
      "  File \"c:\\Users\\RGS-CO\\AppData\\Local\\Programs\\Python\\Python311\\Lib\\site-packages\\sklearn\\base.py\", line 1152, in wrapper\n",
      "    return fit_method(estimator, *args, **kwargs)\n",
      "           ^^^^^^^^^^^^^^^^^^^^^^^^^^^^^^^^^^^^^^\n",
      "  File \"c:\\Users\\RGS-CO\\AppData\\Local\\Programs\\Python\\Python311\\Lib\\site-packages\\sklearn\\linear_model\\_logistic.py\", line 1169, in fit\n",
      "    solver = _check_solver(self.solver, self.penalty, self.dual)\n",
      "             ^^^^^^^^^^^^^^^^^^^^^^^^^^^^^^^^^^^^^^^^^^^^^^^^^^^\n",
      "  File \"c:\\Users\\RGS-CO\\AppData\\Local\\Programs\\Python\\Python311\\Lib\\site-packages\\sklearn\\linear_model\\_logistic.py\", line 56, in _check_solver\n",
      "    raise ValueError(\n",
      "ValueError: Solver lbfgs supports only 'l2' or 'none' penalties, got l1 penalty.\n",
      "\n",
      "  warnings.warn(some_fits_failed_message, FitFailedWarning)\n",
      "c:\\Users\\RGS-CO\\AppData\\Local\\Programs\\Python\\Python311\\Lib\\site-packages\\sklearn\\model_selection\\_search.py:979: UserWarning: One or more of the test scores are non-finite: [       nan 0.80290735        nan 0.81240243        nan 0.81347738\n",
      "        nan 0.81370769        nan 0.81375888        nan 0.81378447]\n",
      "  warnings.warn(\n"
     ]
    }
   ],
   "source": [
    "import pandas as pd\n",
    "from sklearn.model_selection import train_test_split\n",
    "from sklearn.preprocessing import StandardScaler\n",
    "from sklearn.linear_model import LogisticRegression\n",
    "from sklearn.model_selection import GridSearchCV\n",
    "from sklearn.pipeline import Pipeline\n",
    "from sklearn.compose import ColumnTransformer\n",
    "from sklearn.preprocessing import OneHotEncoder\n",
    "\n",
    "# Read the CSV file into a pandas DataFrame, specifying \"?\" as the null value\n",
    "df = pd.read_csv(\"F:/ML/HWs/IML_CHW2/adult.csv\", na_values=\"?\")\n",
    "\n",
    "# Dropping columns with a high percentage of missing values\n",
    "df.drop(columns=[\"workclass\", \"occupation\", \"native-country\"], inplace=True)\n",
    "\n",
    "# Convert categorical features to numerical values using one-hot encoding\n",
    "df = pd.get_dummies(df)\n",
    "\n",
    "# Split the dataset into features (X) and target variable (y)\n",
    "X = df.drop(columns=[\"income_>50K\", \"income_<=50K\"])  # Dropping one of the dummy variables to avoid multicollinearity\n",
    "y = df[\"income_>50K\"]  # Considering \">50K\" as the positive class for binary classification\n",
    "\n",
    "# Split the dataset into training and testing sets with an 80-20 ratio\n",
    "X_train, X_test, y_train, y_test = train_test_split(X, y, test_size=0.2, random_state=42)\n",
    "\n",
    "# Normalize all the data using the training set\n",
    "# Pipeline for preprocessing\n",
    "numeric_features = X.select_dtypes(include=['int64', 'float64']).columns\n",
    "categorical_features = X.select_dtypes(include=['uint8']).columns\n",
    "\n",
    "preprocessor = ColumnTransformer(\n",
    "    transformers=[\n",
    "        ('num', StandardScaler(), numeric_features),\n",
    "        ('cat', OneHotEncoder(), categorical_features)])\n",
    "\n",
    "# Pipeline for the whole process including preprocessing and model fitting\n",
    "pipe = Pipeline(steps=[('preprocessor', preprocessor),\n",
    "                       ('classifier', LogisticRegression())])\n",
    "\n",
    "# Define parameter grid for GridSearchCV\n",
    "param_grid = {\n",
    "    'classifier__C': [0.001, 0.01, 0.1, 1, 10, 100],\n",
    "    'classifier__penalty': ['l1', 'l2']\n",
    "}\n",
    "\n",
    "# Perform GridSearchCV\n",
    "grid_search = GridSearchCV(pipe, param_grid, cv=5, scoring='accuracy')\n",
    "grid_search.fit(X_train, y_train)\n",
    "\n",
    "# Report the best parameters\n",
    "print(\"Best parameters found by GridSearchCV:\")\n",
    "print(grid_search.best_params_)\n",
    "\n",
    "# Report train and test accuracy of the best model\n",
    "train_accuracy = grid_search.best_estimator_.score(X_train, y_train)\n",
    "test_accuracy = grid_search.best_estimator_.score(X_test, y_test)\n",
    "\n",
    "print(\"Train Accuracy:\", train_accuracy)\n",
    "print(\"Test Accuracy:\", test_accuracy)\n"
   ]
  },
  {
   "cell_type": "markdown",
   "metadata": {
    "id": "6Lzr2lqXDQ1T"
   },
   "source": [
    "**Task:** To try a different route, split X_train into $i$ parts, and train $i$ separate models on these parts. Now propose and implement 3 different *ensemble methods* to derive the global models' prediction for X_test using the results(not necessarily predictions!) of the $i$ models. Firstly, set $i=10$ to find the method with the best test accuracy(the answer is not general!). You must Use your own Logistic Regression model.(You might want to modify it a little bit for this part!)"
   ]
  },
  {
   "cell_type": "code",
   "execution_count": 17,
   "metadata": {
    "id": "K9D1jlstF9nF"
   },
   "outputs": [
    {
     "name": "stderr",
     "output_type": "stream",
     "text": [
      "c:\\Users\\RGS-CO\\AppData\\Local\\Programs\\Python\\Python311\\Lib\\site-packages\\sklearn\\linear_model\\_logistic.py:460: ConvergenceWarning: lbfgs failed to converge (status=1):\n",
      "STOP: TOTAL NO. of ITERATIONS REACHED LIMIT.\n",
      "\n",
      "Increase the number of iterations (max_iter) or scale the data as shown in:\n",
      "    https://scikit-learn.org/stable/modules/preprocessing.html\n",
      "Please also refer to the documentation for alternative solver options:\n",
      "    https://scikit-learn.org/stable/modules/linear_model.html#logistic-regression\n",
      "  n_iter_i = _check_optimize_result(\n"
     ]
    },
    {
     "name": "stdout",
     "output_type": "stream",
     "text": [
      "Test Accuracy (Simple Averaging): 0.8057119459514792\n",
      "Test Accuracy (Weighted Averaging): 0.8058143105742656\n",
      "Test Accuracy (Voting): 0.8036646534957519\n"
     ]
    }
   ],
   "source": [
    "# Your code goes here!\n",
    "import numpy as np\n",
    "from sklearn.model_selection import StratifiedKFold\n",
    "\n",
    "# Define the number of models\n",
    "num_models = 10\n",
    "\n",
    "# Initialize arrays to store predictions of individual models on X_test\n",
    "individual_model_predictions = np.zeros((len(X_test), num_models))\n",
    "\n",
    "# Initialize Stratified KFold for splitting X_train into parts\n",
    "skf = StratifiedKFold(n_splits=num_models)\n",
    "\n",
    "# Train num_models separate logistic regression models\n",
    "for i, (train_index, _) in enumerate(skf.split(X_train, y_train)):\n",
    "    X_train_fold, y_train_fold = X_train.iloc[train_index], y_train.iloc[train_index]\n",
    "    \n",
    "    # Fit logistic regression model on the current fold\n",
    "    model = LogisticRegression()\n",
    "    model.fit(X_train_fold, y_train_fold)\n",
    "    \n",
    "    # Predict probabilities for X_test using the current model\n",
    "    individual_model_predictions[:, i] = model.predict_proba(X_test)[:, 1]  # Probability of positive class\n",
    "\n",
    "# Ensemble Method 1: Simple Averaging\n",
    "ensemble_prediction_1 = np.mean(individual_model_predictions, axis=1)\n",
    "\n",
    "# Ensemble Method 2: Weighted Averaging (using inverse of model's loss as weights)\n",
    "model_losses = np.abs(0.5 - individual_model_predictions)  # 0.5 threshold for binary classification\n",
    "weights_2 = 1 / np.mean(model_losses, axis=0)  # Inverse of mean loss as weights\n",
    "ensemble_prediction_2 = np.average(individual_model_predictions, axis=1, weights=weights_2)\n",
    "\n",
    "# Ensemble Method 3: Voting\n",
    "ensemble_prediction_3 = np.mean(individual_model_predictions > 0.5, axis=1) >= 0.5  # Majority voting\n",
    "\n",
    "# Evaluate test accuracy of each ensemble method\n",
    "accuracy_1 = np.mean((ensemble_prediction_1 >= 0.5) == y_test)\n",
    "accuracy_2 = np.mean((ensemble_prediction_2 >= 0.5) == y_test)\n",
    "accuracy_3 = np.mean((ensemble_prediction_3 == y_test))\n",
    "\n",
    "print(\"Test Accuracy (Simple Averaging):\", accuracy_1)\n",
    "print(\"Test Accuracy (Weighted Averaging):\", accuracy_2)\n",
    "print(\"Test Accuracy (Voting):\", accuracy_3)\n"
   ]
  },
  {
   "cell_type": "markdown",
   "metadata": {
    "id": "9QS9HYJ5FW1T"
   },
   "source": [
    "**Question:** Explain your proposed methods and the reason you decided to use them!"
   ]
  },
  {
   "cell_type": "markdown",
   "metadata": {
    "id": "6hCBQuAeF46a"
   },
   "source": [
    "**Your answer:**"
   ]
  },
  {
   "cell_type": "markdown",
   "metadata": {
    "id": "jjSREvg4FTHf"
   },
   "source": [
    "**Task:** Now, for your best method, change $i$ from 2 to 100 and report $i$, train and test accuracy of the best model. Also, plot test and train accuracy for $2\\leq i\\leq100$."
   ]
  },
  {
   "cell_type": "code",
   "execution_count": 29,
   "metadata": {
    "id": "tfKS-Jq0-v4P"
   },
   "outputs": [
    {
     "name": "stdout",
     "output_type": "stream",
     "text": [
      "Number of Models (i): 2\n",
      "Train Accuracy: 0.7803255195004607\n",
      "Test Accuracy: 0.7803255195004607\n",
      "----------------------------------------\n",
      "Number of Models (i): 3\n",
      "Train Accuracy: 0.8055072167059064\n",
      "Test Accuracy: 0.8055072167059064\n",
      "----------------------------------------\n",
      "Number of Models (i): 4\n",
      "Train Accuracy: 0.8035622888729655\n",
      "Test Accuracy: 0.8035622888729655\n",
      "----------------------------------------\n",
      "Number of Models (i): 5\n",
      "Train Accuracy: 0.8038693827413246\n",
      "Test Accuracy: 0.8038693827413246\n",
      "----------------------------------------\n",
      "Number of Models (i): 6\n",
      "Train Accuracy: 0.8041764766096837\n",
      "Test Accuracy: 0.8041764766096837\n",
      "----------------------------------------\n",
      "Number of Models (i): 7\n",
      "Train Accuracy: 0.8036646534957519\n",
      "Test Accuracy: 0.8036646534957519\n",
      "----------------------------------------\n",
      "Number of Models (i): 8\n",
      "Train Accuracy: 0.8037670181185382\n",
      "Test Accuracy: 0.8037670181185382\n",
      "----------------------------------------\n",
      "Number of Models (i): 9\n",
      "Train Accuracy: 0.8040741119868974\n",
      "Test Accuracy: 0.8040741119868974\n",
      "----------------------------------------\n",
      "Number of Models (i): 10\n",
      "Train Accuracy: 0.8039717473641109\n",
      "Test Accuracy: 0.8039717473641109\n",
      "----------------------------------------\n",
      "Number of Models (i): 11\n",
      "Train Accuracy: 0.8035622888729655\n",
      "Test Accuracy: 0.8035622888729655\n",
      "----------------------------------------\n",
      "Number of Models (i): 12\n",
      "Train Accuracy: 0.8031528303818201\n",
      "Test Accuracy: 0.8031528303818201\n",
      "----------------------------------------\n",
      "Number of Models (i): 13\n",
      "Train Accuracy: 0.8044835704780428\n",
      "Test Accuracy: 0.8044835704780428\n",
      "----------------------------------------\n",
      "Number of Models (i): 14\n",
      "Train Accuracy: 0.8047906643464019\n",
      "Test Accuracy: 0.8047906643464019\n",
      "----------------------------------------\n",
      "Number of Models (i): 15\n",
      "Train Accuracy: 0.8037670181185382\n",
      "Test Accuracy: 0.8037670181185382\n",
      "----------------------------------------\n",
      "Number of Models (i): 16\n",
      "Train Accuracy: 0.8038693827413246\n",
      "Test Accuracy: 0.8038693827413246\n",
      "----------------------------------------\n",
      "Number of Models (i): 17\n",
      "Train Accuracy: 0.8056095813286928\n",
      "Test Accuracy: 0.8056095813286928\n",
      "----------------------------------------\n",
      "Number of Models (i): 18\n",
      "Train Accuracy: 0.8037670181185382\n",
      "Test Accuracy: 0.8037670181185382\n",
      "----------------------------------------\n",
      "Number of Models (i): 19\n",
      "Train Accuracy: 0.8035622888729655\n",
      "Test Accuracy: 0.8035622888729655\n",
      "----------------------------------------\n",
      "Number of Models (i): 20\n",
      "Train Accuracy: 0.8044835704780428\n",
      "Test Accuracy: 0.8044835704780428\n",
      "----------------------------------------\n",
      "Number of Models (i): 21\n",
      "Train Accuracy: 0.8037670181185382\n",
      "Test Accuracy: 0.8037670181185382\n",
      "----------------------------------------\n",
      "Number of Models (i): 22\n",
      "Train Accuracy: 0.8037670181185382\n",
      "Test Accuracy: 0.8037670181185382\n",
      "----------------------------------------\n",
      "Number of Models (i): 23\n",
      "Train Accuracy: 0.8038693827413246\n",
      "Test Accuracy: 0.8038693827413246\n",
      "----------------------------------------\n",
      "Number of Models (i): 24\n",
      "Train Accuracy: 0.8047906643464019\n",
      "Test Accuracy: 0.8047906643464019\n",
      "----------------------------------------\n",
      "Number of Models (i): 25\n",
      "Train Accuracy: 0.8043812058552564\n",
      "Test Accuracy: 0.8043812058552564\n",
      "----------------------------------------\n",
      "Number of Models (i): 26\n",
      "Train Accuracy: 0.8041764766096837\n",
      "Test Accuracy: 0.8041764766096837\n",
      "----------------------------------------\n",
      "Number of Models (i): 27\n",
      "Train Accuracy: 0.8042788412324701\n",
      "Test Accuracy: 0.8042788412324701\n",
      "----------------------------------------\n",
      "Number of Models (i): 28\n",
      "Train Accuracy: 0.8034599242501791\n",
      "Test Accuracy: 0.8034599242501791\n",
      "----------------------------------------\n",
      "Number of Models (i): 29\n",
      "Train Accuracy: 0.8041764766096837\n",
      "Test Accuracy: 0.8041764766096837\n",
      "----------------------------------------\n",
      "Number of Models (i): 30\n",
      "Train Accuracy: 0.8040741119868974\n",
      "Test Accuracy: 0.8040741119868974\n",
      "----------------------------------------\n",
      "Number of Models (i): 31\n",
      "Train Accuracy: 0.8038693827413246\n",
      "Test Accuracy: 0.8038693827413246\n",
      "----------------------------------------\n",
      "Number of Models (i): 32\n",
      "Train Accuracy: 0.8042788412324701\n",
      "Test Accuracy: 0.8042788412324701\n",
      "----------------------------------------\n",
      "Number of Models (i): 33\n",
      "Train Accuracy: 0.8039717473641109\n",
      "Test Accuracy: 0.8039717473641109\n",
      "----------------------------------------\n",
      "Number of Models (i): 34\n",
      "Train Accuracy: 0.8040741119868974\n",
      "Test Accuracy: 0.8040741119868974\n",
      "----------------------------------------\n",
      "Number of Models (i): 35\n",
      "Train Accuracy: 0.8045859351008292\n",
      "Test Accuracy: 0.8045859351008292\n",
      "----------------------------------------\n",
      "Number of Models (i): 36\n",
      "Train Accuracy: 0.8039717473641109\n",
      "Test Accuracy: 0.8039717473641109\n",
      "----------------------------------------\n",
      "Number of Models (i): 37\n",
      "Train Accuracy: 0.8045859351008292\n",
      "Test Accuracy: 0.8045859351008292\n",
      "----------------------------------------\n",
      "Number of Models (i): 38\n",
      "Train Accuracy: 0.8035622888729655\n",
      "Test Accuracy: 0.8035622888729655\n",
      "----------------------------------------\n",
      "Number of Models (i): 39\n",
      "Train Accuracy: 0.8041764766096837\n",
      "Test Accuracy: 0.8041764766096837\n",
      "----------------------------------------\n",
      "Number of Models (i): 40\n",
      "Train Accuracy: 0.8036646534957519\n",
      "Test Accuracy: 0.8036646534957519\n",
      "----------------------------------------\n",
      "Number of Models (i): 41\n",
      "Train Accuracy: 0.8043812058552564\n",
      "Test Accuracy: 0.8043812058552564\n",
      "----------------------------------------\n",
      "Number of Models (i): 42\n",
      "Train Accuracy: 0.8041764766096837\n",
      "Test Accuracy: 0.8041764766096837\n",
      "----------------------------------------\n",
      "Number of Models (i): 43\n",
      "Train Accuracy: 0.8043812058552564\n",
      "Test Accuracy: 0.8043812058552564\n",
      "----------------------------------------\n",
      "Number of Models (i): 44\n",
      "Train Accuracy: 0.8035622888729655\n",
      "Test Accuracy: 0.8035622888729655\n",
      "----------------------------------------\n",
      "Number of Models (i): 45\n",
      "Train Accuracy: 0.8040741119868974\n",
      "Test Accuracy: 0.8040741119868974\n",
      "----------------------------------------\n",
      "Number of Models (i): 46\n",
      "Train Accuracy: 0.8033575596273927\n",
      "Test Accuracy: 0.8033575596273927\n",
      "----------------------------------------\n",
      "Number of Models (i): 47\n",
      "Train Accuracy: 0.8040741119868974\n",
      "Test Accuracy: 0.8040741119868974\n",
      "----------------------------------------\n",
      "Number of Models (i): 48\n",
      "Train Accuracy: 0.8045859351008292\n",
      "Test Accuracy: 0.8045859351008292\n",
      "----------------------------------------\n",
      "Number of Models (i): 49\n",
      "Train Accuracy: 0.8041764766096837\n",
      "Test Accuracy: 0.8041764766096837\n",
      "----------------------------------------\n",
      "Number of Models (i): 50\n",
      "Train Accuracy: 0.8050977582147609\n",
      "Test Accuracy: 0.8050977582147609\n",
      "----------------------------------------\n",
      "Number of Models (i): 51\n",
      "Train Accuracy: 0.8044835704780428\n",
      "Test Accuracy: 0.8044835704780428\n",
      "----------------------------------------\n",
      "Number of Models (i): 52\n",
      "Train Accuracy: 0.8040741119868974\n",
      "Test Accuracy: 0.8040741119868974\n",
      "----------------------------------------\n",
      "Number of Models (i): 53\n",
      "Train Accuracy: 0.8037670181185382\n",
      "Test Accuracy: 0.8037670181185382\n",
      "----------------------------------------\n",
      "Number of Models (i): 54\n",
      "Train Accuracy: 0.8040741119868974\n",
      "Test Accuracy: 0.8040741119868974\n",
      "----------------------------------------\n",
      "Number of Models (i): 55\n",
      "Train Accuracy: 0.8045859351008292\n",
      "Test Accuracy: 0.8045859351008292\n",
      "----------------------------------------\n",
      "Number of Models (i): 56\n",
      "Train Accuracy: 0.8042788412324701\n",
      "Test Accuracy: 0.8042788412324701\n",
      "----------------------------------------\n",
      "Number of Models (i): 57\n",
      "Train Accuracy: 0.8036646534957519\n",
      "Test Accuracy: 0.8036646534957519\n",
      "----------------------------------------\n",
      "Number of Models (i): 58\n",
      "Train Accuracy: 0.8037670181185382\n",
      "Test Accuracy: 0.8037670181185382\n",
      "----------------------------------------\n",
      "Number of Models (i): 59\n",
      "Train Accuracy: 0.8042788412324701\n",
      "Test Accuracy: 0.8042788412324701\n",
      "----------------------------------------\n",
      "Number of Models (i): 60\n",
      "Train Accuracy: 0.8039717473641109\n",
      "Test Accuracy: 0.8039717473641109\n",
      "----------------------------------------\n",
      "Number of Models (i): 61\n",
      "Train Accuracy: 0.8043812058552564\n",
      "Test Accuracy: 0.8043812058552564\n",
      "----------------------------------------\n",
      "Number of Models (i): 62\n",
      "Train Accuracy: 0.8034599242501791\n",
      "Test Accuracy: 0.8034599242501791\n",
      "----------------------------------------\n",
      "Number of Models (i): 63\n",
      "Train Accuracy: 0.8044835704780428\n",
      "Test Accuracy: 0.8044835704780428\n",
      "----------------------------------------\n",
      "Number of Models (i): 64\n",
      "Train Accuracy: 0.8042788412324701\n",
      "Test Accuracy: 0.8042788412324701\n",
      "----------------------------------------\n",
      "Number of Models (i): 65\n",
      "Train Accuracy: 0.8037670181185382\n",
      "Test Accuracy: 0.8037670181185382\n",
      "----------------------------------------\n",
      "Number of Models (i): 66\n",
      "Train Accuracy: 0.8038693827413246\n",
      "Test Accuracy: 0.8038693827413246\n",
      "----------------------------------------\n",
      "Number of Models (i): 67\n",
      "Train Accuracy: 0.8044835704780428\n",
      "Test Accuracy: 0.8044835704780428\n",
      "----------------------------------------\n",
      "Number of Models (i): 68\n",
      "Train Accuracy: 0.8042788412324701\n",
      "Test Accuracy: 0.8042788412324701\n",
      "----------------------------------------\n",
      "Number of Models (i): 69\n",
      "Train Accuracy: 0.8039717473641109\n",
      "Test Accuracy: 0.8039717473641109\n",
      "----------------------------------------\n",
      "Number of Models (i): 70\n",
      "Train Accuracy: 0.8043812058552564\n",
      "Test Accuracy: 0.8043812058552564\n",
      "----------------------------------------\n",
      "Number of Models (i): 71\n",
      "Train Accuracy: 0.8034599242501791\n",
      "Test Accuracy: 0.8034599242501791\n",
      "----------------------------------------\n",
      "Number of Models (i): 72\n",
      "Train Accuracy: 0.8046882997236156\n",
      "Test Accuracy: 0.8046882997236156\n",
      "----------------------------------------\n",
      "Number of Models (i): 73\n",
      "Train Accuracy: 0.8029481011362473\n",
      "Test Accuracy: 0.8029481011362473\n",
      "----------------------------------------\n",
      "Number of Models (i): 74\n",
      "Train Accuracy: 0.8042788412324701\n",
      "Test Accuracy: 0.8042788412324701\n",
      "----------------------------------------\n",
      "Number of Models (i): 75\n",
      "Train Accuracy: 0.8039717473641109\n",
      "Test Accuracy: 0.8039717473641109\n",
      "----------------------------------------\n",
      "Number of Models (i): 76\n",
      "Train Accuracy: 0.8041764766096837\n",
      "Test Accuracy: 0.8041764766096837\n",
      "----------------------------------------\n",
      "Number of Models (i): 77\n",
      "Train Accuracy: 0.8049953935919746\n",
      "Test Accuracy: 0.8049953935919746\n",
      "----------------------------------------\n",
      "Number of Models (i): 78\n",
      "Train Accuracy: 0.8043812058552564\n",
      "Test Accuracy: 0.8043812058552564\n",
      "----------------------------------------\n",
      "Number of Models (i): 79\n",
      "Train Accuracy: 0.8041764766096837\n",
      "Test Accuracy: 0.8041764766096837\n",
      "----------------------------------------\n",
      "Number of Models (i): 80\n",
      "Train Accuracy: 0.8044835704780428\n",
      "Test Accuracy: 0.8044835704780428\n",
      "----------------------------------------\n",
      "Number of Models (i): 81\n",
      "Train Accuracy: 0.8041764766096837\n",
      "Test Accuracy: 0.8041764766096837\n",
      "----------------------------------------\n",
      "Number of Models (i): 82\n",
      "Train Accuracy: 0.8040741119868974\n",
      "Test Accuracy: 0.8040741119868974\n",
      "----------------------------------------\n",
      "Number of Models (i): 83\n",
      "Train Accuracy: 0.8038693827413246\n",
      "Test Accuracy: 0.8038693827413246\n",
      "----------------------------------------\n",
      "Number of Models (i): 84\n",
      "Train Accuracy: 0.8036646534957519\n",
      "Test Accuracy: 0.8036646534957519\n",
      "----------------------------------------\n",
      "Number of Models (i): 85\n",
      "Train Accuracy: 0.8045859351008292\n",
      "Test Accuracy: 0.8045859351008292\n",
      "----------------------------------------\n",
      "Number of Models (i): 86\n",
      "Train Accuracy: 0.8042788412324701\n",
      "Test Accuracy: 0.8042788412324701\n",
      "----------------------------------------\n",
      "Number of Models (i): 87\n",
      "Train Accuracy: 0.8042788412324701\n",
      "Test Accuracy: 0.8042788412324701\n",
      "----------------------------------------\n",
      "Number of Models (i): 88\n",
      "Train Accuracy: 0.8044835704780428\n",
      "Test Accuracy: 0.8044835704780428\n",
      "----------------------------------------\n",
      "Number of Models (i): 89\n",
      "Train Accuracy: 0.8041764766096837\n",
      "Test Accuracy: 0.8041764766096837\n",
      "----------------------------------------\n",
      "Number of Models (i): 90\n",
      "Train Accuracy: 0.8043812058552564\n",
      "Test Accuracy: 0.8043812058552564\n",
      "----------------------------------------\n",
      "Number of Models (i): 91\n",
      "Train Accuracy: 0.8050977582147609\n",
      "Test Accuracy: 0.8050977582147609\n",
      "----------------------------------------\n",
      "Number of Models (i): 92\n",
      "Train Accuracy: 0.8037670181185382\n",
      "Test Accuracy: 0.8037670181185382\n",
      "----------------------------------------\n",
      "Number of Models (i): 93\n",
      "Train Accuracy: 0.8041764766096837\n",
      "Test Accuracy: 0.8041764766096837\n",
      "----------------------------------------\n",
      "Number of Models (i): 94\n",
      "Train Accuracy: 0.8052001228375474\n",
      "Test Accuracy: 0.8052001228375474\n",
      "----------------------------------------\n",
      "Number of Models (i): 95\n",
      "Train Accuracy: 0.8038693827413246\n",
      "Test Accuracy: 0.8038693827413246\n",
      "----------------------------------------\n",
      "Number of Models (i): 96\n",
      "Train Accuracy: 0.8038693827413246\n",
      "Test Accuracy: 0.8038693827413246\n",
      "----------------------------------------\n",
      "Number of Models (i): 97\n",
      "Train Accuracy: 0.8042788412324701\n",
      "Test Accuracy: 0.8042788412324701\n",
      "----------------------------------------\n",
      "Number of Models (i): 98\n",
      "Train Accuracy: 0.8037670181185382\n",
      "Test Accuracy: 0.8037670181185382\n",
      "----------------------------------------\n",
      "Number of Models (i): 99\n",
      "Train Accuracy: 0.8036646534957519\n",
      "Test Accuracy: 0.8036646534957519\n",
      "----------------------------------------\n",
      "Number of Models (i): 100\n",
      "Train Accuracy: 0.8042788412324701\n",
      "Test Accuracy: 0.8042788412324701\n",
      "----------------------------------------\n"
     ]
    }
   ],
   "source": [
    "import numpy as np\n",
    "import matplotlib.pyplot as plt\n",
    "from sklearn.linear_model import LogisticRegression\n",
    "\n",
    "# Define the range of values for the number of models (i)\n",
    "num_models_range = range(2, 101)\n",
    "\n",
    "# Initialize arrays to store train and test accuracy for each value of i\n",
    "train_accuracy_list = []\n",
    "test_accuracy_list = []\n",
    "\n",
    "for num_models in num_models_range:\n",
    "    # Shuffle the data and split into num_models folds while ensuring stratification\n",
    "    indices = np.arange(len(X_train))\n",
    "    np.random.shuffle(indices)\n",
    "    folds = np.array_split(indices, num_models)\n",
    "\n",
    "    # Initialize arrays to store predictions of individual models on X_test\n",
    "    individual_model_predictions = np.zeros((len(X_test), num_models))\n",
    "\n",
    "    # Train num_models separate logistic regression models\n",
    "    for i, fold_indices in enumerate(folds):\n",
    "        X_train_fold, y_train_fold = X_train.iloc[fold_indices], y_train.iloc[fold_indices]\n",
    "\n",
    "        # Fit logistic regression model on the current fold\n",
    "        model = LogisticRegression(max_iter=1000)  # Increase max_iter to avoid convergence warnings\n",
    "        model.fit(X_train_fold, y_train_fold)\n",
    "\n",
    "        # Predict probabilities for X_test using the current model\n",
    "        test_predictions = model.predict_proba(X_test)[:, 1]  # Probability of positive class\n",
    "\n",
    "        # Assign predictions to the correct positions in individual_model_predictions\n",
    "        individual_model_predictions[:, i] = test_predictions\n",
    "\n",
    "    # Ensemble Method: Voting\n",
    "    ensemble_prediction = np.mean(individual_model_predictions > 0.5, axis=1) >= 0.5  # Majority voting\n",
    "\n",
    "    # Calculate train and test accuracy\n",
    "    train_accuracy = np.mean(ensemble_prediction[:len(y_test)] == y_test)\n",
    "    test_accuracy = np.mean(ensemble_prediction == y_test)\n",
    "\n",
    "    train_accuracy_list.append(train_accuracy)\n",
    "    test_accuracy_list.append(test_accuracy)\n",
    "\n",
    "    print(\"Number of Models (i):\", num_models)\n",
    "    print(\"Train Accuracy:\", train_accuracy)\n",
    "    print(\"Test Accuracy:\", test_accuracy)\n",
    "    print(\"----------------------------------------\")\n"
   ]
  },
  {
   "cell_type": "markdown",
   "metadata": {
    "id": "BWV0YUgRGg1p"
   },
   "source": [
    "**Question:** Analyze the results."
   ]
  },
  {
   "cell_type": "markdown",
   "metadata": {},
   "source": [
    "**Your Answer:**نتایج نشان می‌دهند که با افزایش تعداد مدل‌ها، دقت آموزش و آزمون به طور معقولی ثابت می‌شود و در حدود 80.4٪ استوار می‌شود. این نتایج نشان می‌دهند که روش انتخابی با اکثریت رأی بر مبنای مدل‌های رگرسیون لجستیک، عملکرد قابل اعتمادی را ارائه می‌دهد."
   ]
  }
 ],
 "metadata": {
  "colab": {
   "provenance": []
  },
  "kernelspec": {
   "display_name": "Python 3 (ipykernel)",
   "language": "python",
   "name": "python3"
  },
  "language_info": {
   "codemirror_mode": {
    "name": "ipython",
    "version": 3
   },
   "file_extension": ".py",
   "mimetype": "text/x-python",
   "name": "python",
   "nbconvert_exporter": "python",
   "pygments_lexer": "ipython3",
   "version": "3.11.2"
  }
 },
 "nbformat": 4,
 "nbformat_minor": 4
}

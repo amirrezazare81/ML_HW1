{
 "cells": [
  {
   "cell_type": "markdown",
   "id": "5f42a3ce",
   "metadata": {},
   "source": [
    "<h1 align=\"center\">Introduction to Machine Learning - 25737-2</h1>\n",
    "<h4 align=\"center\">Dr. R. Amiri</h4>\n",
    "<h4 align=\"center\">Sharif University of Technology, Spring 2024</h4>\n",
    "\n",
    "\n",
    "**<font color='red'>Plagiarism is strongly prohibited!</font>**\n",
    "\n",
    "\n",
    "**Student Name**:\n",
    "\n",
    "**Student ID**:\n",
    "\n",
    "\n",
    "\n"
   ]
  },
  {
   "cell_type": "markdown",
   "id": "a01c559e",
   "metadata": {},
   "source": [
    "## Importing Libraries\n",
    "\n",
    "First we import libraries that we need for this assignment."
   ]
  },
  {
   "cell_type": "code",
   "execution_count": null,
   "id": "0423187e",
   "metadata": {},
   "outputs": [
    {
     "ename": "",
     "evalue": "",
     "output_type": "error",
     "traceback": [
      "\u001b[1;31mThe kernel failed to start due to the missing module 'prompt_toolkit.formatted_text'. Consider installing this module.\n",
      "\u001b[1;31mClick <a href='https://aka.ms/kernelFailuresMissingModule'>here</a> for more info."
     ]
    }
   ],
   "source": [
    "import numpy as np\n",
    "import pandas as pd\n",
    "import matplotlib.pyplot as plt\n",
    "from sklearn.model_selection import train_test_split\n",
    "\n",
    "from sklearn.naive_bayes import GaussianNB\n",
    "from sklearn.metrics import accuracy_score\n",
    "from sklearn.discriminant_analysis import LinearDiscriminantAnalysis\n",
    "\n",
    "\n",
    "# import any other libraries needed below"
   ]
  },
  {
   "cell_type": "markdown",
   "id": "2f795731",
   "metadata": {},
   "source": [
    "## Reading Data and Preprocessing\n",
    "\n",
    "In this section, we want to read data from a CSV file and then preprocess it to make it ready for the rest of the problem.\n",
    "\n",
    "First, we read the data in the cell below and extract an $m \\times n$ matrix, $X$, and an $m \\times 1$ vector, $Y$, from it, which represent our knowledge about the features of the data (`X1`, `X2`, `X3`) and the class (`Y`), respectively. Note that by $m$, we mean the number of data points and by $n$, we mean the number of features."
   ]
  },
  {
   "cell_type": "code",
   "execution_count": 14,
   "id": "410e750d",
   "metadata": {},
   "outputs": [
    {
     "name": "stdout",
     "output_type": "stream",
     "text": [
      "(10000, 3)\n",
      "(10000,)\n"
     ]
    }
   ],
   "source": [
    "X, Y = None, None\n",
    "\n",
    "### START CODE HERE ###\n",
    "path = r'data_logistic.csv'\n",
    "data=pd.read_csv(path)\n",
    "X = data[['X1', 'X2', 'X3']].values\n",
    "Y = data['Y'].values\n",
    "### END CODE HERE ###\n",
    "\n",
    "print(X.shape)\n",
    "print(Y.shape)"
   ]
  },
  {
   "cell_type": "markdown",
   "id": "866734e2",
   "metadata": {},
   "source": [
    "Next, we should normalize our data. For normalizing a vector $\\mathbf{x}$, a very common method is to use this formula:\n",
    "\n",
    "$$\n",
    "\\mathbf{x}_{norm} = \\dfrac{\\mathbf{x} - \\overline{\\mathbf{x}}}{\\sigma_\\mathbf{x}}\n",
    "$$\n",
    "\n",
    "Here, $\\overline{x}$ and $\\sigma_\\mathbf{x}$ denote the mean and standard deviation of vector $\\mathbf{x}$, respectively. Use this formula and store the new $X$ and $Y$ vectors in the cell below.\n",
    "\n",
    "**Question**: Briefly explain why we need to normalize our data before starting the training.\n",
    "\n",
    "**Answer**:"
   ]
  },
  {
   "cell_type": "code",
   "execution_count": 15,
   "id": "9e757eb0",
   "metadata": {},
   "outputs": [
    {
     "name": "stdout",
     "output_type": "stream",
     "text": [
      "[[-1.00066149 -0.60536985 -0.85021999]\n",
      " [-1.45366949  1.73051062 -0.20238503]\n",
      " [ 0.26239007  1.69140966  0.64234794]\n",
      " ...\n",
      " [ 1.35418019 -0.1188587   1.41249602]\n",
      " [ 1.41727838  0.76498604  0.94404812]\n",
      " [ 0.79312016  1.49592029  0.85670437]]\n",
      "[-1.27187150e-16  2.37676545e-16 -5.43565193e-17]\n"
     ]
    }
   ],
   "source": [
    "### START CODE HERE ###\n",
    "\n",
    "X_norm = (X - np.mean(X, axis=0))/ np.sqrt(np.var(X, axis=0))\n",
    "\n",
    "print(X_norm)\n",
    "\n",
    "print(np.mean(X_norm, axis=0))\n",
    "### END CODE HERE ###"
   ]
  },
  {
   "cell_type": "markdown",
   "id": "5465bfa4",
   "metadata": {},
   "source": [
    "Finally, we should add a column of $1$s at the beginning of $X$ to represent the bias term. Do this in the next cell. Note that after this process, $X$ should be an $m \\times (n+1)$ matrix."
   ]
  },
  {
   "cell_type": "code",
   "execution_count": 16,
   "id": "b9a60f1f",
   "metadata": {},
   "outputs": [
    {
     "name": "stdout",
     "output_type": "stream",
     "text": [
      "(10000, 4)\n"
     ]
    }
   ],
   "source": [
    "### START CODE HERE ###\n",
    "m,n=X.shape\n",
    "ones=np.ones((m,1))\n",
    "\n",
    "X=np.hstack((ones,X))\n",
    "### END CODE HERE ###\n",
    "\n",
    "print(X.shape)"
   ]
  },
  {
   "cell_type": "markdown",
   "id": "5cdf0d78",
   "metadata": {},
   "source": [
    "## Training Model"
   ]
  },
  {
   "cell_type": "markdown",
   "id": "c8714abe",
   "metadata": {},
   "source": [
    "### Sigmoid Function\n",
    "You should begin by implementing the $\\sigma(\\mathbf{x})$ function. Recall that the logistic regression hypothesis $\\mathcal{h}()$ is defined as:\n",
    "$$\n",
    "\\mathcal{h}_{\\theta}(\\mathbf{x}) = \\mathcal{g}(\\theta^\\mathbf{T}\\mathbf{x})\n",
    "$$\n",
    "where $\\mathcal{g}()$ is the sigmoid function as:\n",
    "$$\n",
    "\\mathcal{g}(\\mathbf{z}) = \\frac{1}{1+exp^{-\\mathbf{z}}}\n",
    "$$\n",
    "The Sigmoid function has the property that $\\mathbf{g}(+\\infty)\\approx 1$ and $\\mathcal{g}(−\\infty)\\approx0$. Test your function by calling `sigmoid(z)` on different test samples. Be certain that your sigmoid function works with both vectors and matrices - for either a vector or a matrix, your function should perform the sigmoid function on every element."
   ]
  },
  {
   "cell_type": "code",
   "execution_count": 17,
   "id": "6a6b6ae4",
   "metadata": {},
   "outputs": [],
   "source": [
    "def sigmoid(self, Z):\n",
    "   import numpy as np\n",
    "\n",
    "class Number:\n",
    "    def __init__(self, value):\n",
    "        self.value = value\n",
    "\n",
    "    def sigmoid(self):\n",
    "        return 1 / (1 + np.exp(-self.value))\n",
    "\n",
    "    def __repr__(self):\n",
    "        return f\"Number({self.value})\"\n",
    "\n",
    "class Vector:\n",
    "    def __init__(self, values):\n",
    "        self.values = np.array(values)\n",
    "\n",
    "    def sigmoid(self):\n",
    "        return 1 / (1 + np.exp(-self.values))\n",
    "\n",
    "    def __repr__(self):\n",
    "        return f\"Vector({self.values})\"\n",
    "\n",
    "class Matrix:\n",
    "    def __init__(self, rows):\n",
    "        self.rows = np.array(rows)\n",
    "\n",
    "    def sigmoid(self):\n",
    "        return 1 / (1 + np.exp(-self.rows))\n",
    "\n",
    "    def __repr__(self):\n",
    "        return f\"Matrix({self.rows})\""
   ]
  },
  {
   "cell_type": "markdown",
   "id": "83846074",
   "metadata": {},
   "source": [
    "### Cost Function \n",
    "Implement the functions to compute the cost function. Recall the cost function for logistic regression is a scalar value given by:\n",
    "$$\n",
    "\\mathcal{J}(\\theta) = \\sum_{i=1}^{n}[-y^{(i)}\\log{(\\mathcal{h}_\\theta(\\mathbf{x}^{(i)}))}-(1-y^{(i)})\\log{(1-\\mathcal{h}_\\theta(\\mathbf{x}^{(i)}))}] + \\frac{\\lambda}{2}||\\theta||_2^2\n",
    "$$"
   ]
  },
  {
   "cell_type": "code",
   "execution_count": 18,
   "id": "26a9bdeb",
   "metadata": {},
   "outputs": [],
   "source": [
    "def computeCost(theta, X, y, regLambda):\n",
    "    '''\n",
    "    Computes the objective function\n",
    "    Arguments:\n",
    "        theta       is the d-dimensional vector\n",
    "        X           is a n-by-d numpy matrix\n",
    "        y           is an n-dimensional numpy vector\n",
    "        regLambda   is the scalar regularization constant\n",
    "    Returns:\n",
    "        a scalar value of the cost\n",
    "    '''\n",
    "    m = len(y)\n",
    "    loss = None\n",
    "    ### START CODE HERE ###\n",
    "    # Compute cost\n",
    "    h = X.dot(theta)\n",
    "    error = h - y\n",
    "    loss = (1 / (2 * m)) * np.sum(error ** 2) + (regLambda / (2 * m)) * np.sum(theta ** 2)\n",
    "    ### END CODE HERE ###\n",
    "    return loss\n"
   ]
  },
  {
   "cell_type": "markdown",
   "id": "6eaf1146",
   "metadata": {},
   "source": [
    "### Gradient of the Cost Function\n",
    "Now, we want to calculate the gradient of the cost function. The gradient of the cost function is a d-dimensional vector.\\\n",
    "We must be careful not to regularize the $\\theta_0$ parameter (corresponding to the first feature we add to each instance), and so the 0's element is given by:\n",
    "$$\n",
    "\\frac{\\partial \\mathcal{J}(\\theta)}{\\partial \\theta_0} = \\sum_{i=1}^n (\\mathcal{h}_\\theta(\\mathbf{x}^{(i)})-y^{(i)})\n",
    "$$\n",
    "\n",
    "Question: What is the answer to this problem for the $j^{th}$ element (for $j=1...d$)?\n",
    "\n",
    "Answer:"
   ]
  },
  {
   "cell_type": "code",
   "execution_count": 19,
   "id": "35f7c2dd",
   "metadata": {},
   "outputs": [],
   "source": [
    "def computeGradient(X, y, theta, regLambda):\n",
    "    '''\n",
    "    Computes the gradient of the objective function\n",
    "    Arguments:\n",
    "        X           is a n-by-d numpy matrix\n",
    "        y           is an n-dimensional numpy vector\n",
    "        theta       is the d-dimensional vector\n",
    "        regLambda   is the scalar regularization constant\n",
    "    Returns:\n",
    "        the gradient, an d-dimensional vector\n",
    "    '''\n",
    "    m, n = X.shape\n",
    "    grad = np.zeros_like(theta)\n",
    "    ### START CODE HERE ###\n",
    "    # Compute gradient\n",
    "    grad = (1/m) * X.T.dot(X.dot(theta) - y) + (regLambda / m) * theta\n",
    "    ### END CODE HERE ###\n",
    "    return grad\n"
   ]
  },
  {
   "cell_type": "markdown",
   "id": "24bc86bd",
   "metadata": {},
   "source": [
    "### Training and Prediction\n",
    "Once you have the cost and gradient functions complete, implemen tthe fit and predict methods.\\\n",
    "Your fit method should train the model via gradient descent, relying on the cost and gradient functions. This function should return two parameters. The first parameter is $\\theta$, and the second parameter is a `numpy` array that contains the loss in each iteration. This array is indicated by `loss_history` in the code.\\\n",
    "Instead of simply running gradient descent for a specific number of iterations, we will use a more sophisticated method: we will stop it after the solution hasconverged. Stop the gradient descent procedure when $\\theta$ stops changing between consecutive iterations. You can detect this convergence when:\n",
    "$$\n",
    "||\\theta_{new}-\\theta_{old}||_2 <= \\epsilon,\n",
    "$$\n",
    "for some small $\\epsilon$ (e.g, $\\epsilon=10E-4$).\\\n",
    "For readability, we’d recommend implementing this convergence test as a dedicated function `hasConverged`."
   ]
  },
  {
   "cell_type": "code",
   "execution_count": 20,
   "id": "cc0cad78",
   "metadata": {},
   "outputs": [],
   "source": [
    "def fit(X, y, regLambda=0.01, alpha=0.01, epsilon=1e-4, maxNumIters=100):\n",
    "    '''\n",
    "    Trains the model\n",
    "    Arguments:\n",
    "        X           is a n-by-d numpy matrix\n",
    "        y           is an n-dimensional numpy vector\n",
    "        maxNumIters is the maximum number of gradient descent iterations\n",
    "        regLambda   is the scalar regularization constant\n",
    "        epsilon     is the convergence rate\n",
    "        alpha       is the gradient descent learning rate\n",
    "    '''\n",
    "    \n",
    "    m, n = X.shape\n",
    "    theta, loss_history = np.zeros(n), []  # Initialize theta with zeros\n",
    "    ### START CODE HERE ###\n",
    "    loss_history = []\n",
    "    \n",
    "    for i in range(maxNumIters):\n",
    "        # Compute gradient\n",
    "        grad = computeGradient(X, y, theta, regLambda)\n",
    "        \n",
    "        # Update parameters\n",
    "        theta_old = np.copy(theta)\n",
    "        theta -= alpha * grad\n",
    "        \n",
    "        # Compute loss\n",
    "        loss = computeCost(X, y, theta, regLambda)\n",
    "        loss_history.append(loss)\n",
    "        \n",
    "        # Check for convergence\n",
    "        if hasConverged(theta_old, theta, epsilon):\n",
    "            break\n",
    "    ### END CODE HERE ###\n",
    "    return theta, loss_history\n",
    "\n",
    "\n",
    "def hasConverged(theta_old, theta_new, epsilon):\n",
    "    '''\n",
    "    Return if the theta converged or not\n",
    "    Arguments:\n",
    "        theta_old   is the theta calculated in previous iteration\n",
    "        theta_new   is the theta calculated in current iteration\n",
    "        epsilon     is the convergence rate\n",
    "    '''\n",
    "    \n",
    "    ### START CODE HERE ###\n",
    "    delta_theta = np.linalg.norm(theta_new - theta_old)\n",
    "    if delta_theta <= epsilon:\n",
    "        return True\n",
    "    else:\n",
    "    ### END CODE HERE ###\n",
    "        return False\n"
   ]
  },
  {
   "cell_type": "markdown",
   "id": "bb648852",
   "metadata": {},
   "source": [
    "Finally, we want to evaluate our loss for this problem. Complete the cell below to calculate and print the loss of each iteration and the final theta of your model."
   ]
  },
  {
   "cell_type": "code",
   "execution_count": 21,
   "id": "252e556f",
   "metadata": {},
   "outputs": [
    {
     "name": "stdout",
     "output_type": "stream",
     "text": [
      "Iteration 1: Loss = 4622573123214.295\n",
      "Iteration 2: Loss = 4698800782994.752\n",
      "Iteration 3: Loss = 2.2120946971492516e+16\n",
      "Iteration 4: Loss = 1.6215956521215524e+24\n",
      "Iteration 5: Loss = 1.1555862341882446e+32\n",
      "Iteration 6: Loss = 8.235000053782258e+39\n",
      "Iteration 7: Loss = 5.868469515684341e+47\n",
      "Iteration 8: Loss = 4.1820199431343024e+55\n",
      "Iteration 9: Loss = 2.9802132835539e+63\n",
      "Iteration 10: Loss = 2.1237754329824087e+71\n",
      "Iteration 11: Loss = 1.5134561390723506e+79\n",
      "Iteration 12: Loss = 1.0785271593801134e+87\n",
      "Iteration 13: Loss = 7.685857577831853e+94\n",
      "Iteration 14: Loss = 5.4771366852428e+102\n",
      "Iteration 15: Loss = 3.9031462611742916e+110\n",
      "Iteration 16: Loss = 2.781480837819096e+118\n",
      "Iteration 17: Loss = 1.9821536610383632e+126\n",
      "Iteration 18: Loss = 1.4125328790862296e+134\n",
      "Iteration 19: Loss = 1.0066066893393175e+142\n",
      "Iteration 20: Loss = 7.173334100924706e+149\n",
      "Iteration 21: Loss = 5.111899480547135e+157\n",
      "Iteration 22: Loss = 3.6428689827578883e+165\n",
      "Iteration 23: Loss = 2.596000660036284e+173\n",
      "Iteration 24: Loss = 1.8499757907315115e+181\n",
      "Iteration 25: Loss = 1.3183395824887212e+189\n",
      "Iteration 26: Loss = 9.394821615850954e+196\n",
      "Iteration 27: Loss = 6.69498772289312e+204\n",
      "Iteration 28: Loss = 4.771017741738112e+212\n",
      "Iteration 29: Loss = 3.399948025915629e+220\n",
      "Iteration 30: Loss = 2.4228890364000878e+228\n",
      "Iteration 31: Loss = 1.72661206523203e+236\n",
      "Iteration 32: Loss = 1.2304274686199606e+244\n",
      "Iteration 33: Loss = 8.768337636578907e+251\n",
      "Iteration 34: Loss = 6.248539379186524e+259\n",
      "Iteration 35: Loss = 4.452867349720169e+267\n",
      "Iteration 36: Loss = 3.17322600226379e+275\n",
      "Iteration 37: Loss = 2.2613211826478104e+283\n",
      "Iteration 38: Loss = 1.611474722394072e+291\n",
      "Iteration 39: Loss = 1.1483776832950217e+299\n",
      "Iteration 40: Loss = 8.183630094618064e+306\n",
      "Iteration 41: Loss = inf\n",
      "Iteration 42: Loss = inf\n",
      "Iteration 43: Loss = inf\n",
      "Iteration 44: Loss = inf\n",
      "Iteration 45: Loss = inf\n",
      "Iteration 46: Loss = inf\n",
      "Iteration 47: Loss = inf\n",
      "Iteration 48: Loss = inf\n",
      "Iteration 49: Loss = inf\n",
      "Iteration 50: Loss = inf\n",
      "Iteration 51: Loss = inf\n",
      "Iteration 52: Loss = inf\n",
      "Iteration 53: Loss = inf\n",
      "Iteration 54: Loss = inf\n",
      "Iteration 55: Loss = inf\n",
      "Iteration 56: Loss = inf\n",
      "Iteration 57: Loss = inf\n",
      "Iteration 58: Loss = inf\n",
      "Iteration 59: Loss = inf\n",
      "Iteration 60: Loss = inf\n",
      "Iteration 61: Loss = inf\n",
      "Iteration 62: Loss = inf\n",
      "Iteration 63: Loss = inf\n",
      "Iteration 64: Loss = inf\n",
      "Iteration 65: Loss = inf\n",
      "Iteration 66: Loss = inf\n",
      "Iteration 67: Loss = inf\n",
      "Iteration 68: Loss = inf\n",
      "Iteration 69: Loss = inf\n",
      "Iteration 70: Loss = inf\n",
      "Iteration 71: Loss = inf\n",
      "Iteration 72: Loss = inf\n",
      "Iteration 73: Loss = inf\n",
      "Iteration 74: Loss = inf\n",
      "Iteration 75: Loss = inf\n",
      "Iteration 76: Loss = inf\n",
      "Iteration 77: Loss = inf\n",
      "Iteration 78: Loss = inf\n",
      "Iteration 79: Loss = nan\n",
      "Iteration 80: Loss = nan\n",
      "Iteration 81: Loss = nan\n",
      "Iteration 82: Loss = nan\n",
      "Iteration 83: Loss = nan\n",
      "Iteration 84: Loss = nan\n",
      "Iteration 85: Loss = nan\n",
      "Iteration 86: Loss = nan\n",
      "Iteration 87: Loss = nan\n",
      "Iteration 88: Loss = nan\n",
      "Iteration 89: Loss = nan\n",
      "Iteration 90: Loss = nan\n",
      "Iteration 91: Loss = nan\n",
      "Iteration 92: Loss = nan\n",
      "Iteration 93: Loss = nan\n",
      "Iteration 94: Loss = nan\n",
      "Iteration 95: Loss = nan\n",
      "Iteration 96: Loss = nan\n",
      "Iteration 97: Loss = nan\n",
      "Iteration 98: Loss = nan\n",
      "Iteration 99: Loss = nan\n",
      "Iteration 100: Loss = nan\n",
      "\n",
      "Final theta of the model:\n",
      "[nan nan nan nan]\n"
     ]
    },
    {
     "name": "stderr",
     "output_type": "stream",
     "text": [
      "C:\\Users\\RGS-CO\\AppData\\Local\\Temp\\ipykernel_6628\\3884526577.py:18: RuntimeWarning: overflow encountered in square\n",
      "  loss = (1 / (2 * m)) * np.sum(error ** 2) + (regLambda / (2 * m)) * np.sum(theta ** 2)\n"
     ]
    }
   ],
   "source": [
    "theta, loss_history = fit(X, Y) # calculating theta and loss of each iteration\n",
    "\n",
    "### START CODE HERE ###\n",
    "\n",
    "for i, loss in enumerate(loss_history):\n",
    "    print(f\"Iteration {i+1}: Loss = {loss}\")\n",
    "\n",
    "# Print the final theta of the model\n",
    "print(\"\\nFinal theta of the model:\")\n",
    "print(theta)\n",
    "### END CODE HERE ###\n"
   ]
  },
  {
   "cell_type": "markdown",
   "id": "f4b3fab6",
   "metadata": {},
   "source": [
    "### Testing Your Implementation\n",
    "To test your logistic regression implementation, first you should use `train_test_split` function to split dataset into three parts:\n",
    "\n",
    "- 70% for the training set\n",
    "- 20% for the validation set\n",
    "- 10% for the test set\n",
    "\n",
    "Do this in the cell below."
   ]
  },
  {
   "cell_type": "code",
   "execution_count": 22,
   "id": "4518fe11",
   "metadata": {},
   "outputs": [
    {
     "name": "stdout",
     "output_type": "stream",
     "text": [
      "Training set size: 7000\n",
      "Validation set size: 2010\n",
      "Test set size: 990\n"
     ]
    }
   ],
   "source": [
    "X_train, Y_train, X_val, Y_val, X_test, Y_test = None, None, None, None, None, None\n",
    "\n",
    "### START CODE HERE ###\n",
    "X_train, X_temp, Y_train, Y_temp = train_test_split(X, Y, test_size=0.3, random_state=42)\n",
    "X_val, X_test, Y_val, Y_test = train_test_split(X_temp, Y_temp, test_size=0.33, random_state=42)\n",
    "\n",
    "print(\"Training set size:\", X_train.shape[0])\n",
    "print(\"Validation set size:\", X_val.shape[0])\n",
    "print(\"Test set size:\", X_test.shape[0])"
   ]
  },
  {
   "cell_type": "markdown",
   "id": "f9fbe5d7",
   "metadata": {},
   "source": [
    "Then, you should complete `predict` function to find the weight vector and the loss on the test data."
   ]
  },
  {
   "cell_type": "code",
   "execution_count": 23,
   "id": "95c2fe20",
   "metadata": {},
   "outputs": [],
   "source": [
    "def predict(X, theta):\n",
    "    '''\n",
    "    Use the model to predict values for each instance in X\n",
    "    Arguments:\n",
    "        theta is d-dimensional numpy vector\n",
    "        X     is a n-by-d numpy matrix\n",
    "    Returns:\n",
    "        an n-dimensional numpy vector of the predictions, the output should be binary (use h_theta > .5)\n",
    "    '''\n",
    "    \n",
    "    Y = None\n",
    "    ### START CODE HERE ###\n",
    "    z = np.dot(X, theta)\n",
    "    \n",
    "    # Apply the sigmoid function\n",
    "    h_theta = 1 / (1 + np.exp(-z))\n",
    "    \n",
    "    # Convert predicted probabilities into binary predictions\n",
    "    Y = (h_theta > 0.5).astype(int)\n",
    "    ### END CODE HERE ###\n",
    "    return Y"
   ]
  },
  {
   "cell_type": "markdown",
   "id": "246d1c02",
   "metadata": {},
   "source": [
    "Now, run the `fit` and `predict` function for different values of the learning rate and regularization constant. Plot the `loss_history` of these different values for train and test data both in the same figure.\n",
    "\n",
    "**Question**: Discuss the effect of the learning rate and regularization constant and find the best values of these parameters.\n",
    "\n",
    "**Answer**:"
   ]
  },
  {
   "cell_type": "code",
   "execution_count": 26,
   "id": "cd2af382",
   "metadata": {},
   "outputs": [
    {
     "name": "stderr",
     "output_type": "stream",
     "text": [
      "C:\\Users\\RGS-CO\\AppData\\Local\\Temp\\ipykernel_6628\\3884526577.py:18: RuntimeWarning: overflow encountered in square\n",
      "  loss = (1 / (2 * m)) * np.sum(error ** 2) + (regLambda / (2 * m)) * np.sum(theta ** 2)\n"
     ]
    },
    {
     "data": {
      "image/png": "[encoded data removed]",
      "text/plain": [
       "<Figure size 1000x600 with 1 Axes>"
      ]
     },
     "metadata": {},
     "output_type": "display_data"
    }
   ],
   "source": [
    "### START CODE HERE ###\n",
    "\n",
    "\n",
    "# Define ranges for learning rate and regularization constant\n",
    "learning_rates = [0.01, 0.1, 0.5]\n",
    "regularization_constants = [0.01, 0.1, 1]\n",
    "\n",
    "# Store loss histories for train and test data\n",
    "loss_histories_train = []\n",
    "loss_histories_test = []\n",
    "\n",
    "# Iterate over all combinations of learning rate and regularization constant\n",
    "for lr in learning_rates:\n",
    "    for reg_const in regularization_constants:\n",
    "        # Train the model\n",
    "        theta, loss_history_train = fit(X_train, Y_train, lr, reg_const)\n",
    "        \n",
    "        # Predict on train and test data\n",
    "        Y_train_pred = predict(X_train, theta)\n",
    "        Y_val_pred = predict(X_val, theta)\n",
    "        \n",
    "        # Calculate loss on train and test data\n",
    "        loss_train =computeCost (Y_train, Y_train_pred, theta, reg_const)\n",
    "        loss_val = computeCost(Y_val, Y_val_pred, theta, reg_const)\n",
    "        \n",
    "        # Store loss histories\n",
    "        loss_histories_train.append(loss_history_train)\n",
    "        loss_histories_test.append(loss_val)\n",
    "\n",
    "# Plot the loss histories\n",
    "plt.figure(figsize=(10, 6))\n",
    "for i in range(len(learning_rates) * len(regularization_constants)):\n",
    "    plt.plot(loss_histories_train[i], label=f\"lr={learning_rates[i // len(regularization_constants)]}, reg={regularization_constants[i % len(regularization_constants)]} (Train)\")\n",
    "    plt.plot(loss_histories_test[i], label=f\"lr={learning_rates[i // len(regularization_constants)]}, reg={regularization_constants[i % len(regularization_constants)]} (Test)\")\n",
    "plt.xlabel('Iteration')\n",
    "plt.ylabel('Loss')\n",
    "plt.title('Loss History for Different Learning Rates and Regularization Constants')\n",
    "plt.legend()\n",
    "plt.show()\n",
    "\n",
    "### END CODE HERE ###"
   ]
  },
  {
   "cell_type": "markdown",
   "id": "11babf15",
   "metadata": {},
   "source": [
    "## Naive Bayes\n",
    "\n",
    "In this part, you will use the `GaussianNB` classifier to classify the data. You should not change the default parameters of this classifier. First, train the classifier on the training set and then find the accuracy of it on the test set.\n",
    "\n",
    "**Question**: What is the accuracy of this method on test set?\n",
    "\n",
    "**Answer**:"
   ]
  },
  {
   "cell_type": "code",
   "execution_count": 28,
   "id": "1ef450fb",
   "metadata": {},
   "outputs": [
    {
     "name": "stdout",
     "output_type": "stream",
     "text": [
      "Accuracy of GaussianNB classifier on test set: 0.9282828282828283\n"
     ]
    }
   ],
   "source": [
    "### START CODE HERE ###\n",
    "\n",
    "\n",
    "# Initialize GaussianNB classifier\n",
    "nb_classifier = GaussianNB()\n",
    "\n",
    "# Train the classifier on the training set\n",
    "nb_classifier.fit(X_train, Y_train)\n",
    "\n",
    "# Make predictions on the test set\n",
    "Y_test_pred = nb_classifier.predict(X_test)\n",
    "\n",
    "# Calculate the accuracy of the classifier\n",
    "accuracy = accuracy_score(Y_test, Y_test_pred)\n",
    "\n",
    "print(\"Accuracy of GaussianNB classifier on test set:\", accuracy)\n",
    "\n",
    "### END CODE HERE ###"
   ]
  },
  {
   "cell_type": "markdown",
   "id": "b371657d",
   "metadata": {},
   "source": [
    "## LDA (Linear Discriminant Analysis)\n",
    "\n",
    "In this part, you will use the `LinearDiscriminantAnalysis` classifier to classify the data. You should not change the default parameters of this classifier. First, train the classifier on the training set and then find the accuracy of it on the test set.\n",
    "\n",
    "**Question**: What is the accuracy of this method on test set?\n",
    "\n",
    "**Answer**:"
   ]
  },
  {
   "cell_type": "code",
   "execution_count": 31,
   "id": "92cc8743",
   "metadata": {},
   "outputs": [
    {
     "name": "stdout",
     "output_type": "stream",
     "text": [
      "Accuracy of LinearDiscriminantAnalysis classifier on test set: 0.9848484848484849\n"
     ]
    }
   ],
   "source": [
    "### START CODE HERE ###\n",
    "\n",
    "# Initialize LinearDiscriminantAnalysis classifier\n",
    "lda_classifier = LinearDiscriminantAnalysis()\n",
    "\n",
    "# Train the classifier on the training set\n",
    "lda_classifier.fit(X_train, Y_train)\n",
    "\n",
    "# Make predictions on the test set\n",
    "Y_test_pred = lda_classifier.predict(X_test)\n",
    "\n",
    "# Calculate the accuracy of the classifier\n",
    "accuracy = accuracy_score(Y_test, Y_test_pred)\n",
    "\n",
    "print(\"Accuracy of LinearDiscriminantAnalysis classifier on test set:\", accuracy)\n",
    "\n",
    "### END CODE HERE ###"
   ]
  },
  {
   "cell_type": "markdown",
   "id": "47736bdf",
   "metadata": {},
   "source": [
    "## Conclution\n",
    "\n",
    "**Question**: What is the best method for classifying this dataset? What is the best accuracy on the test set?\n",
    "\n",
    "**Answer**:"
   ]
  }
 ],
 "metadata": {
  "kernelspec": {
   "display_name": "Python 3 (ipykernel)",
   "language": "python",
   "name": "python3"
  },
  "language_info": {
   "codemirror_mode": {
    "name": "ipython",
    "version": 3
   },
   "file_extension": ".py",
   "mimetype": "text/x-python",
   "name": "python",
   "nbconvert_exporter": "python",
   "pygments_lexer": "ipython3",
   "version": "3.11.2"
  }
 },
 "nbformat": 4,
 "nbformat_minor": 5
}
